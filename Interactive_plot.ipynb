{
 "cells": [
  {
   "cell_type": "markdown",
   "metadata": {},
   "source": [
    "## Import packages"
   ]
  },
  {
   "cell_type": "code",
   "execution_count": 1,
   "metadata": {},
   "outputs": [],
   "source": [
    "%matplotlib widget"
   ]
  },
  {
   "cell_type": "code",
   "execution_count": 2,
   "metadata": {},
   "outputs": [],
   "source": [
    "import os\n",
    "import glob\n",
    "import numpy  as np\n",
    "import pandas as pd\n",
    "import librosa\n",
    "import librosa.display\n",
    "import matplotlib.pyplot as plt\n",
    "import ipywidgets as widgets"
   ]
  },
  {
   "cell_type": "markdown",
   "metadata": {},
   "source": [
    "### Choose file to inspect"
   ]
  },
  {
   "cell_type": "code",
   "execution_count": 3,
   "metadata": {},
   "outputs": [
    {
     "data": {
      "application/vnd.jupyter.widget-view+json": {
       "model_id": "6ef8f4a1e115494ab4248f24fa667505",
       "version_major": 2,
       "version_minor": 0
      },
      "text/plain": [
       "Dropdown(description='Wav files:', options=('2015-11-10--15-25.wav', '2017-02-04--10-14-06--00-16-35--BC.wav',…"
      ]
     },
     "metadata": {},
     "output_type": "display_data"
    },
    {
     "name": "stdout",
     "output_type": "stream",
     "text": [
      "2017-02-04--10-14-06--00-16-35--BC.wav\n"
     ]
    }
   ],
   "source": [
    "directory='/Users/saroltagabulya/git/Orca/'\n",
    "wavs=glob.glob('*.wav')\n",
    "file=[]\n",
    "\n",
    "dropdown=widgets.Dropdown(\n",
    "    options=wavs,\n",
    "    description='Wav files:',\n",
    "    disabled=False,\n",
    ")\n",
    "\n",
    "def dropdown_eventhandler(change):\n",
    "    file.clear()\n",
    "    file.append(change.new)\n",
    "    print(change.new)\n",
    "dropdown.observe(dropdown_eventhandler, names='value')\n",
    "display(dropdown)"
   ]
  },
  {
   "cell_type": "markdown",
   "metadata": {},
   "source": [
    "### Read in wav file"
   ]
  },
  {
   "cell_type": "code",
   "execution_count": 20,
   "metadata": {},
   "outputs": [
    {
     "name": "stdout",
     "output_type": "stream",
     "text": [
      "Number of data points: 21939970, fs: 22050 Hz, resulting file length: 16.58349962207105 min.\n"
     ]
    }
   ],
   "source": [
    "# Read in wav\n",
    "filename = directory + file[0]\n",
    "y, sr = librosa.load(filename)\n",
    "print('Number of data points: {}, fs: {} Hz, resulting file length: {} min.'.format(np.shape(y)[0], sr, np.shape(y)[0]/sr/60))"
   ]
  },
  {
   "cell_type": "markdown",
   "metadata": {},
   "source": [
    "## Display wav file"
   ]
  },
  {
   "cell_type": "code",
   "execution_count": 5,
   "metadata": {},
   "outputs": [
    {
     "data": {
      "application/vnd.jupyter.widget-view+json": {
       "model_id": "45bc1cb2924c4802a8fb96f71bace1c0",
       "version_major": 2,
       "version_minor": 0
      },
      "text/plain": [
       "Canvas(toolbar=Toolbar(toolitems=[('Home', 'Reset original view', 'home', 'home'), ('Back', 'Back to previous …"
      ]
     },
     "metadata": {},
     "output_type": "display_data"
    }
   ],
   "source": [
    "# Display wav\n",
    "plt.figure(figsize=(20, 5))\n",
    "#librosa.display.waveshow(y, sr)\n",
    "plt.show()"
   ]
  },
  {
   "cell_type": "markdown",
   "metadata": {},
   "source": [
    "### Calculate spectogram"
   ]
  },
  {
   "cell_type": "code",
   "execution_count": 6,
   "metadata": {},
   "outputs": [],
   "source": [
    "# Convert to spectogram \n",
    "Y = librosa.stft(y)\n",
    "Ydb = librosa.amplitude_to_db(abs(Y))"
   ]
  },
  {
   "cell_type": "markdown",
   "metadata": {},
   "source": [
    "### Plot spectrogram"
   ]
  },
  {
   "cell_type": "code",
   "execution_count": 7,
   "metadata": {},
   "outputs": [],
   "source": [
    "#Normalize spectrogram\n",
    "min_value=pd.DataFrame(Ydb).min().min()\n",
    "Ydb_norm=np.array(pd.DataFrame(Ydb)-min_value)"
   ]
  },
  {
   "cell_type": "code",
   "execution_count": 8,
   "metadata": {},
   "outputs": [],
   "source": [
    "#Whiten? (extract average background noise for each buffer)\n",
    "mean_values=pd.DataFrame(Ydb_norm).mean()\n",
    "Ydb_norm_w=np.array(pd.DataFrame(Ydb_norm).apply(lambda x: x-mean_values, axis=1))"
   ]
  },
  {
   "cell_type": "code",
   "execution_count": 11,
   "metadata": {},
   "outputs": [
    {
     "data": {
      "application/vnd.jupyter.widget-view+json": {
       "model_id": "a386181ca92745c2a3a4009252c7c2c3",
       "version_major": 2,
       "version_minor": 0
      },
      "text/plain": [
       "Canvas(toolbar=Toolbar(toolitems=[('Home', 'Reset original view', 'home', 'home'), ('Back', 'Back to previous …"
      ]
     },
     "metadata": {},
     "output_type": "display_data"
    },
    {
     "data": {
      "text/plain": [
       "<matplotlib.colorbar.Colorbar at 0x135b9aac0>"
      ]
     },
     "execution_count": 11,
     "metadata": {},
     "output_type": "execute_result"
    }
   ],
   "source": [
    "# Plot spectrogram\n",
    "plt.figure(figsize=(200, 5))\n",
    "librosa.display.specshow(Ydb_norm, cmap='seismic', sr=sr, x_axis='time', y_axis='hz')\n",
    "plt.xticks(np.arange(0, len(Ydb_norm)+1, 10))\n",
    "plt.colorbar()"
   ]
  },
  {
   "cell_type": "code",
   "execution_count": 8,
   "metadata": {},
   "outputs": [],
   "source": [
    "plt.close()"
   ]
  },
  {
   "cell_type": "markdown",
   "metadata": {},
   "source": [
    "### Event handling function"
   ]
  },
  {
   "cell_type": "code",
   "execution_count": 9,
   "metadata": {},
   "outputs": [],
   "source": [
    "def onclick(event):\n",
    "    if event.key=='b':\n",
    "        row.clear()\n",
    "        events.append(event)\n",
    "        row.append(event.xdata)\n",
    "        plt.gca().set_title('onset: {}'.format(event.xdata))\n",
    "        \n",
    "    elif event.key=='e':\n",
    "        events.append(event)\n",
    "        row.append(event.xdata)\n",
    "        plt.gca().set_title('offset: {}'.format(event.xdata))\n",
    "        \n",
    "        if len(row)==2:\n",
    "            row.append(filename)\n",
    "            time_stamps.loc[len(time_stamps)] = row\n",
    "            plt.gca().set_title('Timestamps appended. \\n onset: {} \\n offset {}'.format(onset, offset))\n",
    "            row.clear()\n",
    "            \n",
    "    elif event.key == 's':\n",
    "        # save croppings\n",
    "        print('saved dataframe')\n",
    "        time_stamps.to_csv('time_stamps.csv')\n",
    "        \n",
    "    else:\n",
    "        plt.gca().set_title('Could not interpret user input, please make a new selection:\\n b: define onset timestamps \\n e: define offset timestamp and add to df \\n s: save df to csv file'.format(onset, offset))"
   ]
  },
  {
   "cell_type": "markdown",
   "metadata": {},
   "source": [
    "### Initializing data structures"
   ]
  },
  {
   "cell_type": "code",
   "execution_count": 10,
   "metadata": {},
   "outputs": [],
   "source": [
    "time_stamps=pd.DataFrame(columns=['onset', 'offset', 'filename'])\n",
    "events = []\n",
    "row=[]"
   ]
  },
  {
   "cell_type": "markdown",
   "metadata": {},
   "source": [
    "### Plotting and connecting eventhandler to plot"
   ]
  },
  {
   "cell_type": "code",
   "execution_count": 12,
   "metadata": {},
   "outputs": [
    {
     "data": {
      "application/vnd.jupyter.widget-view+json": {
       "model_id": "da5be017b2f6470ca3ecd65f9fbe7ec6",
       "version_major": 2,
       "version_minor": 0
      },
      "text/plain": [
       "Canvas(toolbar=Toolbar(toolitems=[('Home', 'Reset original view', 'home', 'home'), ('Back', 'Back to previous …"
      ]
     },
     "metadata": {},
     "output_type": "display_data"
    },
    {
     "data": {
      "text/plain": [
       "<matplotlib.colorbar.Colorbar at 0x131527940>"
      ]
     },
     "execution_count": 12,
     "metadata": {},
     "output_type": "execute_result"
    }
   ],
   "source": [
    "# Plot spectrogram\n",
    "plt.figure(figsize=(150, 5))\n",
    "# tell mpl_connect we want to pass a 'button_press_event' into onclick when the event is detected\n",
    "plt.gcf().canvas.mpl_connect('key_press_event', onclick)\n",
    "librosa.display.specshow(Ydb_norm, cmap='seismic', sr=sr, x_axis='time', y_axis='hz')\n",
    "plt.xticks(np.arange(0, len(Ydb_norm)+1, 10))\n",
    "plt.colorbar()"
   ]
  },
  {
   "cell_type": "code",
   "execution_count": 19,
   "metadata": {},
   "outputs": [
    {
     "data": {
      "text/html": [
       "<div>\n",
       "<style scoped>\n",
       "    .dataframe tbody tr th:only-of-type {\n",
       "        vertical-align: middle;\n",
       "    }\n",
       "\n",
       "    .dataframe tbody tr th {\n",
       "        vertical-align: top;\n",
       "    }\n",
       "\n",
       "    .dataframe thead th {\n",
       "        text-align: right;\n",
       "    }\n",
       "</style>\n",
       "<table border=\"1\" class=\"dataframe\">\n",
       "  <thead>\n",
       "    <tr style=\"text-align: right;\">\n",
       "      <th></th>\n",
       "      <th>onset</th>\n",
       "      <th>offset</th>\n",
       "      <th>filename</th>\n",
       "    </tr>\n",
       "  </thead>\n",
       "  <tbody>\n",
       "    <tr>\n",
       "      <th>0</th>\n",
       "      <td>841.922751</td>\n",
       "      <td>845.761460</td>\n",
       "      <td>/Users/saroltagabulya/git/Orca/2017-02-04--10-...</td>\n",
       "    </tr>\n",
       "    <tr>\n",
       "      <th>1</th>\n",
       "      <td>851.574364</td>\n",
       "      <td>851.355009</td>\n",
       "      <td>/Users/saroltagabulya/git/Orca/2017-02-04--10-...</td>\n",
       "    </tr>\n",
       "    <tr>\n",
       "      <th>2</th>\n",
       "      <td>856.290493</td>\n",
       "      <td>859.580815</td>\n",
       "      <td>/Users/saroltagabulya/git/Orca/2017-02-04--10-...</td>\n",
       "    </tr>\n",
       "    <tr>\n",
       "      <th>3</th>\n",
       "      <td>869.940404</td>\n",
       "      <td>872.901695</td>\n",
       "      <td>/Users/saroltagabulya/git/Orca/2017-02-04--10-...</td>\n",
       "    </tr>\n",
       "    <tr>\n",
       "      <th>4</th>\n",
       "      <td>879.153308</td>\n",
       "      <td>881.785566</td>\n",
       "      <td>/Users/saroltagabulya/git/Orca/2017-02-04--10-...</td>\n",
       "    </tr>\n",
       "    <tr>\n",
       "      <th>5</th>\n",
       "      <td>926.025410</td>\n",
       "      <td>930.302829</td>\n",
       "      <td>/Users/saroltagabulya/git/Orca/2017-02-04--10-...</td>\n",
       "    </tr>\n",
       "    <tr>\n",
       "      <th>6</th>\n",
       "      <td>945.547990</td>\n",
       "      <td>947.302829</td>\n",
       "      <td>/Users/saroltagabulya/git/Orca/2017-02-04--10-...</td>\n",
       "    </tr>\n",
       "    <tr>\n",
       "      <th>7</th>\n",
       "      <td>951.969153</td>\n",
       "      <td>956.685282</td>\n",
       "      <td>/Users/saroltagabulya/git/Orca/2017-02-04--10-...</td>\n",
       "    </tr>\n",
       "    <tr>\n",
       "      <th>8</th>\n",
       "      <td>970.524559</td>\n",
       "      <td>976.227785</td>\n",
       "      <td>/Users/saroltagabulya/git/Orca/2017-02-04--10-...</td>\n",
       "    </tr>\n",
       "    <tr>\n",
       "      <th>9</th>\n",
       "      <td>399.434236</td>\n",
       "      <td>404.150365</td>\n",
       "      <td>/Users/saroltagabulya/git/Orca/2017-02-04--10-...</td>\n",
       "    </tr>\n",
       "    <tr>\n",
       "      <th>10</th>\n",
       "      <td>409.853591</td>\n",
       "      <td>415.447140</td>\n",
       "      <td>/Users/saroltagabulya/git/Orca/2017-02-04--10-...</td>\n",
       "    </tr>\n",
       "    <tr>\n",
       "      <th>11</th>\n",
       "      <td>516.579681</td>\n",
       "      <td>519.211939</td>\n",
       "      <td>/Users/saroltagabulya/git/Orca/2017-02-04--10-...</td>\n",
       "    </tr>\n",
       "  </tbody>\n",
       "</table>\n",
       "</div>"
      ],
      "text/plain": [
       "         onset      offset                                           filename\n",
       "0   841.922751  845.761460  /Users/saroltagabulya/git/Orca/2017-02-04--10-...\n",
       "1   851.574364  851.355009  /Users/saroltagabulya/git/Orca/2017-02-04--10-...\n",
       "2   856.290493  859.580815  /Users/saroltagabulya/git/Orca/2017-02-04--10-...\n",
       "3   869.940404  872.901695  /Users/saroltagabulya/git/Orca/2017-02-04--10-...\n",
       "4   879.153308  881.785566  /Users/saroltagabulya/git/Orca/2017-02-04--10-...\n",
       "5   926.025410  930.302829  /Users/saroltagabulya/git/Orca/2017-02-04--10-...\n",
       "6   945.547990  947.302829  /Users/saroltagabulya/git/Orca/2017-02-04--10-...\n",
       "7   951.969153  956.685282  /Users/saroltagabulya/git/Orca/2017-02-04--10-...\n",
       "8   970.524559  976.227785  /Users/saroltagabulya/git/Orca/2017-02-04--10-...\n",
       "9   399.434236  404.150365  /Users/saroltagabulya/git/Orca/2017-02-04--10-...\n",
       "10  409.853591  415.447140  /Users/saroltagabulya/git/Orca/2017-02-04--10-...\n",
       "11  516.579681  519.211939  /Users/saroltagabulya/git/Orca/2017-02-04--10-..."
      ]
     },
     "execution_count": 19,
     "metadata": {},
     "output_type": "execute_result"
    }
   ],
   "source": [
    "time_stamps"
   ]
  },
  {
   "cell_type": "markdown",
   "metadata": {},
   "source": [
    "### Make sure to save time_stamps as csv by clicking s on graph!"
   ]
  }
 ],
 "metadata": {
  "kernelspec": {
   "display_name": "Python 3",
   "language": "python",
   "name": "python3"
  },
  "language_info": {
   "codemirror_mode": {
    "name": "ipython",
    "version": 3
   },
   "file_extension": ".py",
   "mimetype": "text/x-python",
   "name": "python",
   "nbconvert_exporter": "python",
   "pygments_lexer": "ipython3",
   "version": "3.8.2"
  }
 },
 "nbformat": 4,
 "nbformat_minor": 4
}
