{
 "cells": [
  {
   "cell_type": "markdown",
   "metadata": {},
   "source": [
    "## Import packages"
   ]
  },
  {
   "cell_type": "code",
   "execution_count": 1,
   "metadata": {},
   "outputs": [],
   "source": [
    "%matplotlib widget"
   ]
  },
  {
   "cell_type": "code",
   "execution_count": 2,
   "metadata": {},
   "outputs": [],
   "source": [
    "import os\n",
    "import glob\n",
    "import numpy  as np\n",
    "import pandas as pd\n",
    "import librosa\n",
    "import librosa.display\n",
    "import matplotlib.pyplot as plt\n",
    "import ipywidgets as widgets\n",
    "import wave"
   ]
  },
  {
   "cell_type": "markdown",
   "metadata": {},
   "source": [
    "### Choose file to inspect"
   ]
  },
  {
   "cell_type": "code",
   "execution_count": 3,
   "metadata": {},
   "outputs": [
    {
     "data": {
      "application/vnd.jupyter.widget-view+json": {
       "model_id": "223bf410be0c40d3b0a773de2d978da3",
       "version_major": 2,
       "version_minor": 0
      },
      "text/plain": [
       "Dropdown(description='Wav files:', options=('wav_files/2015-11-10--15-25.wav', 'wav_files/2017-02-04--10-25-15…"
      ]
     },
     "metadata": {},
     "output_type": "display_data"
    },
    {
     "name": "stdout",
     "output_type": "stream",
     "text": [
      "wav_files/2017-02-04--10-25-15--00-05-25--C.wav\n"
     ]
    }
   ],
   "source": [
    "directory='/Users/saroltagabulya/git/Orca/'\n",
    "wavs=glob.glob('wav_files/*.wav')\n",
    "file=[]\n",
    "\n",
    "dropdown=widgets.Dropdown(\n",
    "    options=wavs,\n",
    "    description='Wav files:',\n",
    "    disabled=False,\n",
    ")\n",
    "\n",
    "def dropdown_eventhandler(change):\n",
    "    file.clear()\n",
    "    file.append(change.new)\n",
    "    print(change.new)\n",
    "dropdown.observe(dropdown_eventhandler, names='value')\n",
    "display(dropdown)"
   ]
  },
  {
   "cell_type": "markdown",
   "metadata": {},
   "source": [
    "### Read metadata\n"
   ]
  },
  {
   "cell_type": "code",
   "execution_count": 4,
   "metadata": {},
   "outputs": [
    {
     "name": "stdout",
     "output_type": "stream",
     "text": [
      "Please check sampling rate manually in the metadata file and set below in Hz! \n",
      "100000\n",
      "Please check reference value in the files README and set below in uPa! \n",
      "1\n",
      "Please check calibration value in the files README and set below! \n",
      " what does the fullscale voltage correspond to in Pa? \n",
      " 1\n",
      "Please indicate the researcher who performs the crop by initials [SG, JR] \n",
      " SG\n"
     ]
    }
   ],
   "source": [
    "# Set sample rate\n",
    "try:\n",
    "    wave_file=wave.open(file[0], \"rb\")\n",
    "    sample_rate = wave_file.getframerate()\n",
    "except:\n",
    "    sample_rate=int(input('Please check sampling rate manually in the metadata file and set below in Hz! \\n'))\n",
    "    \n",
    "# Set reference value\n",
    "ref_value=int(input('Please check reference value in the files README and set below in uPa! \\n'))\n",
    "\n",
    "# Calibration value\n",
    "cal_value=int(input('Please check calibration value in the files README and set below! \\n what does the fullscale voltage correspond to in Pa? \\n '))\n",
    "\n",
    "\n",
    "# Set researcher\n",
    "researcher= input('Please indicate the researcher who performs the crop by initials [SG, JR] \\n ')"
   ]
  },
  {
   "cell_type": "markdown",
   "metadata": {},
   "source": [
    "### Read in wav file"
   ]
  },
  {
   "cell_type": "code",
   "execution_count": 5,
   "metadata": {},
   "outputs": [
    {
     "name": "stdout",
     "output_type": "stream",
     "text": [
      "Number of data points: 32500326, fs: 100000 Hz, resulting file length: 5.416721 min.\n"
     ]
    }
   ],
   "source": [
    "# Read in wav\n",
    "filename = directory + file[0]\n",
    "y_all, sr=librosa.load(filename, sr=sample_rate, mono=False)\n",
    "y=y_all[0]\n",
    "print('Number of data points: {}, fs: {} Hz, resulting file length: {} min.'.format(np.shape(y)[0], sr, np.shape(y)[0]/sr/60))"
   ]
  },
  {
   "cell_type": "code",
   "execution_count": 15,
   "metadata": {},
   "outputs": [
    {
     "data": {
      "text/plain": [
       "array([ 0.02192914,  0.00633857, -0.01353262, ..., -0.04321598,\n",
       "       -0.04496078,  0.        ], dtype=float32)"
      ]
     },
     "execution_count": 15,
     "metadata": {},
     "output_type": "execute_result"
    }
   ],
   "source": [
    "y"
   ]
  },
  {
   "cell_type": "markdown",
   "metadata": {},
   "source": [
    "## Display wav file"
   ]
  },
  {
   "cell_type": "code",
   "execution_count": 6,
   "metadata": {},
   "outputs": [
    {
     "data": {
      "application/vnd.jupyter.widget-view+json": {
       "model_id": "c923842f68a64825a38e90a59e46b77a",
       "version_major": 2,
       "version_minor": 0
      },
      "text/plain": [
       "Canvas(toolbar=Toolbar(toolitems=[('Home', 'Reset original view', 'home', 'home'), ('Back', 'Back to previous …"
      ]
     },
     "metadata": {},
     "output_type": "display_data"
    },
    {
     "name": "stderr",
     "output_type": "stream",
     "text": [
      "/Users/saroltagabulya/Library/Python/3.8/lib/python/site-packages/librosa/util/utils.py:198: UserWarning: librosa.util.frame called with axis=-1 on a non-contiguous input. This will result in a copy.\n",
      "  warnings.warn(\n"
     ]
    }
   ],
   "source": [
    "# Display wav\n",
    "plt.figure(figsize=(20, 5))\n",
    "librosa.display.waveshow(y, sr)\n",
    "plt.show()"
   ]
  },
  {
   "cell_type": "markdown",
   "metadata": {},
   "source": [
    "### Calculate spectogram"
   ]
  },
  {
   "cell_type": "code",
   "execution_count": 16,
   "metadata": {},
   "outputs": [],
   "source": [
    "def convert_wav_to_spect(y, ref_value):\n",
    "    # Convert to spectogram \n",
    "    Y = librosa.stft(y) \n",
    "    #Ydb = librosa.amplitude_to_db(abs(Y), ref=1)\n",
    "    Ydb = librosa.amplitude_to_db(abs(Y), ref=ref_value) # Try if it works leaving away abs!\n",
    "                                               # Check whether reference should go in as amplitude or power\n",
    "    return Ydb"
   ]
  },
  {
   "cell_type": "markdown",
   "metadata": {},
   "source": [
    "### Event handling function"
   ]
  },
  {
   "cell_type": "code",
   "execution_count": 17,
   "metadata": {},
   "outputs": [],
   "source": [
    "def onclick_for_s(s):\n",
    "    def onclick(event):\n",
    "        if event.key=='b':\n",
    "            row.clear()\n",
    "            events.append(event)\n",
    "            row.append(event.xdata + (s)*10*60)\n",
    "            plt.gca().set_title('onset: {}'.format(event.xdata))\n",
    "\n",
    "        elif event.key=='e':\n",
    "            events.append(event)\n",
    "            row.append(event.xdata + (s)*10*60)\n",
    "            plt.gca().set_title('offset: {}'.format(event.xdata))\n",
    "\n",
    "            if len(row)==2:\n",
    "                row.append(filename)\n",
    "                time_stamps.loc[len(time_stamps)] = row\n",
    "                plt.gca().set_title('Timestamps appended. \\n onset: {} \\n offset {}'.format(onset, offset))\n",
    "                row.clear()\n",
    "\n",
    "        elif event.key == 's':\n",
    "            # save croppings\n",
    "            print('saved dataframe')\n",
    "            time_stamps.to_csv('time_stamps.csv')\n",
    "\n",
    "        else:\n",
    "            plt.gca().set_title('Could not interpret user input, please make a new selection:\\n b: define onset timestamps \\n e: define offset timestamp and add to df \\n s: save df to csv file'.format(onset, offset))\n",
    "    return onclick"
   ]
  },
  {
   "cell_type": "markdown",
   "metadata": {},
   "source": [
    "### Initializing data structures"
   ]
  },
  {
   "cell_type": "code",
   "execution_count": 18,
   "metadata": {},
   "outputs": [],
   "source": [
    "time_stamps=pd.DataFrame(columns=['onset', 'offset', 'filename'])\n",
    "events = []\n",
    "row=[]"
   ]
  },
  {
   "cell_type": "markdown",
   "metadata": {},
   "source": [
    "### Crop Ydb into smaller segments"
   ]
  },
  {
   "cell_type": "code",
   "execution_count": 19,
   "metadata": {},
   "outputs": [
    {
     "name": "stdout",
     "output_type": "stream",
     "text": [
      "0 32500327\n"
     ]
    }
   ],
   "source": [
    "y_list=[]\n",
    "ideal_length=600*sample_rate\n",
    "segment_boundaries=list(range(0, np.shape(y)[0], ideal_length))\n",
    "\n",
    "if np.shape(y)[0]>ideal_length:\n",
    "    a=round(np.shape(y)[0]/ideal_length)\n",
    "    \n",
    "    for i in list(range(a+1)):\n",
    "        onset=segment_boundaries[i]\n",
    "        try:\n",
    "            offset=segment_boundaries[i+1]\n",
    "        except: \n",
    "            offset=np.shape(y)[0]\n",
    "        y_list.append(y[onset:offset])\n",
    "        print(onset, offset)\n",
    "else:\n",
    "    onset=0\n",
    "    offset=np.shape(y)[0] +1\n",
    "    print(onset, offset)\n",
    "    y_list.append(y[onset:offset])"
   ]
  },
  {
   "cell_type": "code",
   "execution_count": 20,
   "metadata": {},
   "outputs": [
    {
     "data": {
      "text/plain": [
       "[array([ 0.02192914,  0.00633857, -0.01353262, ..., -0.04321598,\n",
       "        -0.04496078,  0.        ], dtype=float32)]"
      ]
     },
     "execution_count": 20,
     "metadata": {},
     "output_type": "execute_result"
    }
   ],
   "source": [
    "y_list"
   ]
  },
  {
   "cell_type": "code",
   "execution_count": 21,
   "metadata": {},
   "outputs": [
    {
     "data": {
      "application/vnd.jupyter.widget-view+json": {
       "model_id": "5db19fd9bfb448d6bd69e6c27c9651e2",
       "version_major": 2,
       "version_minor": 0
      },
      "text/plain": [
       "Canvas(toolbar=Toolbar(toolitems=[('Home', 'Reset original view', 'home', 'home'), ('Back', 'Back to previous …"
      ]
     },
     "metadata": {},
     "output_type": "display_data"
    },
    {
     "name": "stdout",
     "output_type": "stream",
     "text": [
      "0\n"
     ]
    }
   ],
   "source": [
    "for s in list(range(len(y_list))):\n",
    "    segment=y_list[s]\n",
    "    spect=convert_wav_to_spect(segment, ref_value)\n",
    "    spect=spect[0:250, :]\n",
    "    # Plot spectrogram\n",
    "    plt.figure(figsize=(200, 5))\n",
    "    # tell mpl_connect we want to pass a 'button_press_event' into onclick when the event is detected\n",
    "    plt.gcf().canvas.mpl_connect('key_press_event', onclick_for_s(s))\n",
    "    librosa.display.specshow(spect, cmap='seismic', sr=sample_rate, x_axis='time', y_axis='hz')\n",
    "    plt.xticks(np.arange(0, len(spect)+1, 10))\n",
    "    plt.colorbar()\n",
    "    print(s)"
   ]
  },
  {
   "cell_type": "code",
   "execution_count": 24,
   "metadata": {},
   "outputs": [
    {
     "data": {
      "text/html": [
       "<div>\n",
       "<style scoped>\n",
       "    .dataframe tbody tr th:only-of-type {\n",
       "        vertical-align: middle;\n",
       "    }\n",
       "\n",
       "    .dataframe tbody tr th {\n",
       "        vertical-align: top;\n",
       "    }\n",
       "\n",
       "    .dataframe thead th {\n",
       "        text-align: right;\n",
       "    }\n",
       "</style>\n",
       "<table border=\"1\" class=\"dataframe\">\n",
       "  <thead>\n",
       "    <tr style=\"text-align: right;\">\n",
       "      <th></th>\n",
       "      <th>onset</th>\n",
       "      <th>offset</th>\n",
       "      <th>filename</th>\n",
       "    </tr>\n",
       "  </thead>\n",
       "  <tbody>\n",
       "    <tr>\n",
       "      <th>0</th>\n",
       "      <td>168.038552</td>\n",
       "      <td>168.877281</td>\n",
       "      <td>/Users/saroltagabulya/git/Orca/wav_files/2017-...</td>\n",
       "    </tr>\n",
       "    <tr>\n",
       "      <th>1</th>\n",
       "      <td>173.909653</td>\n",
       "      <td>176.216157</td>\n",
       "      <td>/Users/saroltagabulya/git/Orca/wav_files/2017-...</td>\n",
       "    </tr>\n",
       "    <tr>\n",
       "      <th>2</th>\n",
       "      <td>180.095277</td>\n",
       "      <td>182.454201</td>\n",
       "      <td>/Users/saroltagabulya/git/Orca/wav_files/2017-...</td>\n",
       "    </tr>\n",
       "    <tr>\n",
       "      <th>3</th>\n",
       "      <td>187.801096</td>\n",
       "      <td>190.133810</td>\n",
       "      <td>/Users/saroltagabulya/git/Orca/wav_files/2017-...</td>\n",
       "    </tr>\n",
       "    <tr>\n",
       "      <th>4</th>\n",
       "      <td>201.771171</td>\n",
       "      <td>203.710731</td>\n",
       "      <td>/Users/saroltagabulya/git/Orca/wav_files/2017-...</td>\n",
       "    </tr>\n",
       "    <tr>\n",
       "      <th>5</th>\n",
       "      <td>210.027406</td>\n",
       "      <td>212.622223</td>\n",
       "      <td>/Users/saroltagabulya/git/Orca/wav_files/2017-...</td>\n",
       "    </tr>\n",
       "    <tr>\n",
       "      <th>6</th>\n",
       "      <td>257.467997</td>\n",
       "      <td>260.665650</td>\n",
       "      <td>/Users/saroltagabulya/git/Orca/wav_files/2017-...</td>\n",
       "    </tr>\n",
       "    <tr>\n",
       "      <th>7</th>\n",
       "      <td>277.335382</td>\n",
       "      <td>279.982619</td>\n",
       "      <td>/Users/saroltagabulya/git/Orca/wav_files/2017-...</td>\n",
       "    </tr>\n",
       "    <tr>\n",
       "      <th>8</th>\n",
       "      <td>283.783109</td>\n",
       "      <td>285.906141</td>\n",
       "      <td>/Users/saroltagabulya/git/Orca/wav_files/2017-...</td>\n",
       "    </tr>\n",
       "    <tr>\n",
       "      <th>9</th>\n",
       "      <td>303.139394</td>\n",
       "      <td>306.205995</td>\n",
       "      <td>/Users/saroltagabulya/git/Orca/wav_files/2017-...</td>\n",
       "    </tr>\n",
       "  </tbody>\n",
       "</table>\n",
       "</div>"
      ],
      "text/plain": [
       "        onset      offset                                           filename\n",
       "0  168.038552  168.877281  /Users/saroltagabulya/git/Orca/wav_files/2017-...\n",
       "1  173.909653  176.216157  /Users/saroltagabulya/git/Orca/wav_files/2017-...\n",
       "2  180.095277  182.454201  /Users/saroltagabulya/git/Orca/wav_files/2017-...\n",
       "3  187.801096  190.133810  /Users/saroltagabulya/git/Orca/wav_files/2017-...\n",
       "4  201.771171  203.710731  /Users/saroltagabulya/git/Orca/wav_files/2017-...\n",
       "5  210.027406  212.622223  /Users/saroltagabulya/git/Orca/wav_files/2017-...\n",
       "6  257.467997  260.665650  /Users/saroltagabulya/git/Orca/wav_files/2017-...\n",
       "7  277.335382  279.982619  /Users/saroltagabulya/git/Orca/wav_files/2017-...\n",
       "8  283.783109  285.906141  /Users/saroltagabulya/git/Orca/wav_files/2017-...\n",
       "9  303.139394  306.205995  /Users/saroltagabulya/git/Orca/wav_files/2017-..."
      ]
     },
     "execution_count": 24,
     "metadata": {},
     "output_type": "execute_result"
    }
   ],
   "source": [
    "time_stamps"
   ]
  },
  {
   "cell_type": "markdown",
   "metadata": {},
   "source": [
    "### Plotting and connecting eventhandler to plot"
   ]
  },
  {
   "cell_type": "code",
   "execution_count": 19,
   "metadata": {},
   "outputs": [
    {
     "data": {
      "application/vnd.jupyter.widget-view+json": {
       "model_id": "c4f28c588e904386a840a25c03c353c0",
       "version_major": 2,
       "version_minor": 0
      },
      "text/plain": [
       "Canvas(toolbar=Toolbar(toolitems=[('Home', 'Reset original view', 'home', 'home'), ('Back', 'Back to previous …"
      ]
     },
     "metadata": {},
     "output_type": "display_data"
    },
    {
     "data": {
      "text/plain": [
       "<matplotlib.colorbar.Colorbar at 0x12c06d370>"
      ]
     },
     "execution_count": 19,
     "metadata": {},
     "output_type": "execute_result"
    }
   ],
   "source": [
    "# Plot spectrogram\n",
    "plt.figure(figsize=(200, 5))\n",
    "# tell mpl_connect we want to pass a 'button_press_event' into onclick when the event is detected\n",
    "plt.gcf().canvas.mpl_connect('key_press_event', onclick)\n",
    "librosa.display.specshow(Ydb, cmap='seismic', sr=sr, x_axis='time', y_axis='hz')\n",
    "plt.xticks(np.arange(0, len(Ydb)+1, 10))\n",
    "plt.colorbar()"
   ]
  },
  {
   "cell_type": "markdown",
   "metadata": {},
   "source": [
    "### Make sure to save time_stamps as csv by clicking s on graph!"
   ]
  },
  {
   "cell_type": "code",
   "execution_count": null,
   "metadata": {},
   "outputs": [],
   "source": []
  },
  {
   "cell_type": "code",
   "execution_count": 2,
   "metadata": {},
   "outputs": [],
   "source": [
    "import datetime\n",
    "import time\n"
   ]
  },
  {
   "cell_type": "code",
   "execution_count": 3,
   "metadata": {},
   "outputs": [],
   "source": [
    "ts = time.time()"
   ]
  },
  {
   "cell_type": "code",
   "execution_count": 4,
   "metadata": {},
   "outputs": [
    {
     "data": {
      "text/plain": [
       "'18816 days, 19:34:16.807788'"
      ]
     },
     "execution_count": 4,
     "metadata": {},
     "output_type": "execute_result"
    }
   ],
   "source": [
    "str(datetime.timedelta(seconds=ts))"
   ]
  },
  {
   "cell_type": "code",
   "execution_count": 12,
   "metadata": {},
   "outputs": [
    {
     "data": {
      "text/plain": [
       "datetime.datetime(2021, 7, 8, 21, 37, 44, 367900)"
      ]
     },
     "execution_count": 12,
     "metadata": {},
     "output_type": "execute_result"
    }
   ],
   "source": [
    "datetime.datetime.today() "
   ]
  },
  {
   "cell_type": "code",
   "execution_count": 13,
   "metadata": {},
   "outputs": [
    {
     "data": {
      "text/plain": [
       "datetime.datetime(2021, 7, 8, 21, 37, 44)"
      ]
     },
     "execution_count": 13,
     "metadata": {},
     "output_type": "execute_result"
    }
   ],
   "source": [
    "datetime.datetime.strptime('2021-07-08--21-37-44', '%Y-%m-%d--%H-%M-%S')"
   ]
  },
  {
   "cell_type": "code",
   "execution_count": null,
   "metadata": {},
   "outputs": [],
   "source": []
  }
 ],
 "metadata": {
  "kernelspec": {
   "display_name": "Python 3",
   "language": "python",
   "name": "python3"
  },
  "language_info": {
   "codemirror_mode": {
    "name": "ipython",
    "version": 3
   },
   "file_extension": ".py",
   "mimetype": "text/x-python",
   "name": "python",
   "nbconvert_exporter": "python",
   "pygments_lexer": "ipython3",
   "version": "3.8.2"
  }
 },
 "nbformat": 4,
 "nbformat_minor": 4
}
