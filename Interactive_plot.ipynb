{
 "cells": [
  {
   "cell_type": "markdown",
   "metadata": {},
   "source": [
    "## Import packages"
   ]
  },
  {
   "cell_type": "code",
   "execution_count": 1,
   "metadata": {},
   "outputs": [],
   "source": [
    "%matplotlib widget"
   ]
  },
  {
   "cell_type": "code",
   "execution_count": 2,
   "metadata": {},
   "outputs": [],
   "source": [
    "import os\n",
    "import glob\n",
    "import numpy  as np\n",
    "import pandas as pd\n",
    "import librosa\n",
    "import librosa.display\n",
    "import matplotlib.pyplot as plt\n",
    "import ipywidgets as widgets\n",
    "import wave"
   ]
  },
  {
   "cell_type": "markdown",
   "metadata": {},
   "source": [
    "### Choose file to inspect"
   ]
  },
  {
   "cell_type": "code",
   "execution_count": 3,
   "metadata": {},
   "outputs": [
    {
     "data": {
      "application/vnd.jupyter.widget-view+json": {
       "model_id": "382983e684ab4208bcc28cfe61cacbb0",
       "version_major": 2,
       "version_minor": 0
      },
      "text/plain": [
       "Dropdown(description='Wav files:', options=('2015-11-10--15-25.wav', '2017-02-04--10-14-06--00-16-35--BC.wav',…"
      ]
     },
     "metadata": {},
     "output_type": "display_data"
    },
    {
     "name": "stdout",
     "output_type": "stream",
     "text": [
      "2017-02-04--10-14-06--00-16-35--BC.wav\n"
     ]
    }
   ],
   "source": [
    "directory='/Users/saroltagabulya/git/Orca/'\n",
    "wavs=glob.glob('*.wav')\n",
    "file=[]\n",
    "\n",
    "dropdown=widgets.Dropdown(\n",
    "    options=wavs,\n",
    "    description='Wav files:',\n",
    "    disabled=False,\n",
    ")\n",
    "\n",
    "def dropdown_eventhandler(change):\n",
    "    file.clear()\n",
    "    file.append(change.new)\n",
    "    print(change.new)\n",
    "dropdown.observe(dropdown_eventhandler, names='value')\n",
    "display(dropdown)"
   ]
  },
  {
   "cell_type": "markdown",
   "metadata": {},
   "source": [
    "### Read metadata\n"
   ]
  },
  {
   "cell_type": "code",
   "execution_count": 5,
   "metadata": {},
   "outputs": [],
   "source": [
    "try:\n",
    "    wave_file=wave.open(file[0], \"rb\")\n",
    "    sample_rate = wave_file.getframerate()\n",
    "except:\n",
    "    ('Please check sampling rate manually and set below!')\n",
    "    sample_rate=100000"
   ]
  },
  {
   "cell_type": "markdown",
   "metadata": {},
   "source": [
    "### Read in wav file"
   ]
  },
  {
   "cell_type": "code",
   "execution_count": 6,
   "metadata": {},
   "outputs": [
    {
     "name": "stdout",
     "output_type": "stream",
     "text": [
      "Number of data points: 99500996, fs: 100000 Hz, resulting file length: 16.583499333333332 min.\n"
     ]
    }
   ],
   "source": [
    "# Read in wav\n",
    "filename = directory + file[0]\n",
    "y, sr = librosa.load(filename, sr=sample_rate)\n",
    "print('Number of data points: {}, fs: {} Hz, resulting file length: {} min.'.format(np.shape(y)[0], sr, np.shape(y)[0]/sr/60))"
   ]
  },
  {
   "cell_type": "markdown",
   "metadata": {},
   "source": [
    "## Display wav file"
   ]
  },
  {
   "cell_type": "code",
   "execution_count": 7,
   "metadata": {},
   "outputs": [
    {
     "data": {
      "application/vnd.jupyter.widget-view+json": {
       "model_id": "8550ed2585344eefab4ad8a63af01b32",
       "version_major": 2,
       "version_minor": 0
      },
      "text/plain": [
       "Canvas(toolbar=Toolbar(toolitems=[('Home', 'Reset original view', 'home', 'home'), ('Back', 'Back to previous …"
      ]
     },
     "metadata": {},
     "output_type": "display_data"
    }
   ],
   "source": [
    "# Display wav\n",
    "plt.figure(figsize=(20, 5))\n",
    "librosa.display.waveshow(y, sr)\n",
    "plt.show()"
   ]
  },
  {
   "cell_type": "markdown",
   "metadata": {},
   "source": [
    "### Calculate spectogram"
   ]
  },
  {
   "cell_type": "code",
   "execution_count": 8,
   "metadata": {},
   "outputs": [],
   "source": [
    "# Convert to spectogram \n",
    "Y = librosa.stft(y) \n",
    "#Ydb = librosa.amplitude_to_db(abs(Y), ref=1)\n",
    "Ydb = librosa.amplitude_to_db(Y, ref=1) # Try if it works leaving away abs!\n",
    "                        # Check whether reference should go in as amplitude or power!"
   ]
  },
  {
   "cell_type": "code",
   "execution_count": 53,
   "metadata": {},
   "outputs": [],
   "source": [
    "# Convert to spectogram \n",
    "Y = librosa.stft(y) # Fourrier spectrum - should have amplitude and phase components for each bins\n",
    "Y_power=abs(Y)**2 # To get powers we need to square the Fourrier spectrum and to get rid phase component we take the absolute value\n",
    "#This should result in the power spectrum (Pa**2)\n",
    "\n",
    "#To convert it to power density spectrum (Pa**2/Hz) we divide it by the width of the frequency bins\n",
    "\n",
    "# We usually don't plot in Pa**2/Hz. Instead we want a logarithmic scale. Divide it by the reference value. \n",
    "# dB - for power values (for amplitude value is is squared!)\n",
    "\n",
    "\n",
    "# \n",
    "\n",
    "\n",
    "\n",
    "#Ydb = librosa.amplitude_to_db(abs(Y))\n",
    "\n",
    "\n",
    "## Ultimately, we want a power density spectrum! \n",
    "\n",
    "#Units(dBa relative to 1 uPa**2/Hz)"
   ]
  },
  {
   "cell_type": "markdown",
   "metadata": {},
   "source": [
    "# Power spectrum vs amplitude\n",
    "2017: signal is +-1 Volt data (what comes out of the amplifier)\n",
    "2020: Calibrate: unit for sound is Pascal, in air the reference level is 20uPa, and in water it is 1uP. \n",
    "\n",
    "Power(density)= amplitude**2\n",
    "nfft= \n",
    "\n",
    "Power spectrum (P**2)\n",
    "\n",
    "reference value \n",
    "\n",
    "2015-11-10--15-25.wav: 96kHz, 24bit \n",
    "\n",
    "\n"
   ]
  },
  {
   "cell_type": "code",
   "execution_count": 10,
   "metadata": {},
   "outputs": [
    {
     "data": {
      "text/plain": [
       "array([[-27.377338 , -27.377338 , -27.377338 , ..., -27.377338 ,\n",
       "        -27.377338 , -24.385162 ],\n",
       "       [-27.377338 , -27.377338 , -27.377338 , ..., -27.377338 ,\n",
       "        -27.377338 , -20.75101  ],\n",
       "       [-27.377338 , -27.377338 , -27.377338 , ...,  -7.7992635,\n",
       "         -9.980928 , -13.668762 ],\n",
       "       ...,\n",
       "       [-27.377338 , -27.377338 , -27.377338 , ..., -27.377338 ,\n",
       "        -27.377338 , -27.377338 ],\n",
       "       [-27.377338 , -27.377338 , -27.377338 , ..., -27.377338 ,\n",
       "        -27.377338 , -27.377338 ],\n",
       "       [-27.377338 , -27.377338 , -27.377338 , ..., -27.377338 ,\n",
       "        -27.377338 , -27.377338 ]], dtype=float32)"
      ]
     },
     "execution_count": 10,
     "metadata": {},
     "output_type": "execute_result"
    }
   ],
   "source": [
    "Ydb"
   ]
  },
  {
   "cell_type": "markdown",
   "metadata": {},
   "source": [
    "### Plot spectrogram"
   ]
  },
  {
   "cell_type": "code",
   "execution_count": 8,
   "metadata": {},
   "outputs": [],
   "source": [
    "#Normalize spectrogram\n",
    "min_value=pd.DataFrame(Ydb).min().min()\n",
    "Ydb_norm=np.array(pd.DataFrame(Ydb)-min_value)"
   ]
  },
  {
   "cell_type": "code",
   "execution_count": 12,
   "metadata": {},
   "outputs": [],
   "source": [
    "#Whitening? (extract average background noise for each buffer)\n",
    "# For each frequency bin, take the median (take the 10%th signal), frequency gain correction\n",
    "mean_values=pd.DataFrame(Ydb_norm).mean()\n",
    "Ydb_norm_w=np.array(pd.DataFrame(Ydb_norm).apply(lambda x: x-mean_values, axis=1))"
   ]
  },
  {
   "cell_type": "code",
   "execution_count": 13,
   "metadata": {},
   "outputs": [
    {
     "data": {
      "application/vnd.jupyter.widget-view+json": {
       "model_id": "f7bcb60b01f640e0933f4ca10b799b8e",
       "version_major": 2,
       "version_minor": 0
      },
      "text/plain": [
       "Canvas(toolbar=Toolbar(toolitems=[('Home', 'Reset original view', 'home', 'home'), ('Back', 'Back to previous …"
      ]
     },
     "metadata": {},
     "output_type": "display_data"
    },
    {
     "data": {
      "text/plain": [
       "<matplotlib.colorbar.Colorbar at 0x1344562e0>"
      ]
     },
     "execution_count": 13,
     "metadata": {},
     "output_type": "execute_result"
    }
   ],
   "source": [
    "# Plot spectrogram\n",
    "plt.figure(figsize=(200, 5))\n",
    "librosa.display.specshow(Ydb_norm, cmap='seismic', sr=sr, x_axis='time', y_axis='hz')\n",
    "plt.xticks(np.arange(0, len(Ydb_norm)+1, 10))\n",
    "plt.colorbar()"
   ]
  },
  {
   "cell_type": "code",
   "execution_count": 14,
   "metadata": {},
   "outputs": [],
   "source": [
    "plt.close()"
   ]
  },
  {
   "cell_type": "markdown",
   "metadata": {},
   "source": [
    "### Event handling function"
   ]
  },
  {
   "cell_type": "code",
   "execution_count": 11,
   "metadata": {},
   "outputs": [],
   "source": [
    "def onclick(event):\n",
    "    if event.key=='b':\n",
    "        row.clear()\n",
    "        events.append(event)\n",
    "        row.append(event.xdata)\n",
    "        plt.gca().set_title('onset: {}'.format(event.xdata))\n",
    "        \n",
    "    elif event.key=='e':\n",
    "        events.append(event)\n",
    "        row.append(event.xdata)\n",
    "        plt.gca().set_title('offset: {}'.format(event.xdata))\n",
    "        \n",
    "        if len(row)==2:\n",
    "            row.append(filename)\n",
    "            time_stamps.loc[len(time_stamps)] = row\n",
    "            plt.gca().set_title('Timestamps appended. \\n onset: {} \\n offset {}'.format(onset, offset))\n",
    "            row.clear()\n",
    "            \n",
    "    elif event.key == 's':\n",
    "        # save croppings\n",
    "        print('saved dataframe')\n",
    "        time_stamps.to_csv('time_stamps.csv')\n",
    "        \n",
    "    else:\n",
    "        plt.gca().set_title('Could not interpret user input, please make a new selection:\\n b: define onset timestamps \\n e: define offset timestamp and add to df \\n s: save df to csv file'.format(onset, offset))"
   ]
  },
  {
   "cell_type": "markdown",
   "metadata": {},
   "source": [
    "### Initializing data structures"
   ]
  },
  {
   "cell_type": "code",
   "execution_count": 12,
   "metadata": {},
   "outputs": [],
   "source": [
    "time_stamps=pd.DataFrame(columns=['onset', 'offset', 'filename'])\n",
    "events = []\n",
    "row=[]"
   ]
  },
  {
   "cell_type": "markdown",
   "metadata": {},
   "source": [
    "### Plotting and connecting eventhandler to plot"
   ]
  },
  {
   "cell_type": "code",
   "execution_count": 13,
   "metadata": {},
   "outputs": [
    {
     "data": {
      "application/vnd.jupyter.widget-view+json": {
       "model_id": "2c03bc4be8ce4118863b9d0270b44244",
       "version_major": 2,
       "version_minor": 0
      },
      "text/plain": [
       "Canvas(toolbar=Toolbar(toolitems=[('Home', 'Reset original view', 'home', 'home'), ('Back', 'Back to previous …"
      ]
     },
     "metadata": {},
     "output_type": "display_data"
    },
    {
     "data": {
      "text/plain": [
       "<matplotlib.colorbar.Colorbar at 0x136279940>"
      ]
     },
     "execution_count": 13,
     "metadata": {},
     "output_type": "execute_result"
    }
   ],
   "source": [
    "# Plot spectrogram\n",
    "plt.figure(figsize=(200, 5))\n",
    "# tell mpl_connect we want to pass a 'button_press_event' into onclick when the event is detected\n",
    "plt.gcf().canvas.mpl_connect('key_press_event', onclick)\n",
    "librosa.display.specshow(Ydb, cmap='seismic', sr=sr, x_axis='time', y_axis='hz')\n",
    "plt.xticks(np.arange(0, len(Ydb)+1, 10))\n",
    "plt.colorbar()"
   ]
  },
  {
   "cell_type": "code",
   "execution_count": 26,
   "metadata": {},
   "outputs": [],
   "source": []
  },
  {
   "cell_type": "code",
   "execution_count": 22,
   "metadata": {},
   "outputs": [
    {
     "data": {
      "text/html": [
       "<div>\n",
       "<style scoped>\n",
       "    .dataframe tbody tr th:only-of-type {\n",
       "        vertical-align: middle;\n",
       "    }\n",
       "\n",
       "    .dataframe tbody tr th {\n",
       "        vertical-align: top;\n",
       "    }\n",
       "\n",
       "    .dataframe thead th {\n",
       "        text-align: right;\n",
       "    }\n",
       "</style>\n",
       "<table border=\"1\" class=\"dataframe\">\n",
       "  <thead>\n",
       "    <tr style=\"text-align: right;\">\n",
       "      <th></th>\n",
       "      <th>onset</th>\n",
       "      <th>offset</th>\n",
       "      <th>filename</th>\n",
       "    </tr>\n",
       "  </thead>\n",
       "  <tbody>\n",
       "    <tr>\n",
       "      <th>0</th>\n",
       "      <td>842.037650</td>\n",
       "      <td>844.909211</td>\n",
       "      <td>/Users/saroltagabulya/git/Orca/2017-02-04--10-...</td>\n",
       "    </tr>\n",
       "    <tr>\n",
       "      <th>1</th>\n",
       "      <td>849.358617</td>\n",
       "      <td>851.250553</td>\n",
       "      <td>/Users/saroltagabulya/git/Orca/2017-02-04--10-...</td>\n",
       "    </tr>\n",
       "    <tr>\n",
       "      <th>2</th>\n",
       "      <td>856.731960</td>\n",
       "      <td>858.586944</td>\n",
       "      <td>/Users/saroltagabulya/git/Orca/2017-02-04--10-...</td>\n",
       "    </tr>\n",
       "    <tr>\n",
       "      <th>3</th>\n",
       "      <td>870.880829</td>\n",
       "      <td>872.443733</td>\n",
       "      <td>/Users/saroltagabulya/git/Orca/2017-02-04--10-...</td>\n",
       "    </tr>\n",
       "    <tr>\n",
       "      <th>4</th>\n",
       "      <td>879.143507</td>\n",
       "      <td>881.162606</td>\n",
       "      <td>/Users/saroltagabulya/git/Orca/2017-02-04--10-...</td>\n",
       "    </tr>\n",
       "    <tr>\n",
       "      <th>5</th>\n",
       "      <td>926.733573</td>\n",
       "      <td>929.410736</td>\n",
       "      <td>/Users/saroltagabulya/git/Orca/2017-02-04--10-...</td>\n",
       "    </tr>\n",
       "    <tr>\n",
       "      <th>6</th>\n",
       "      <td>952.981367</td>\n",
       "      <td>955.613625</td>\n",
       "      <td>/Users/saroltagabulya/git/Orca/2017-02-04--10-...</td>\n",
       "    </tr>\n",
       "    <tr>\n",
       "      <th>7</th>\n",
       "      <td>971.885780</td>\n",
       "      <td>974.929328</td>\n",
       "      <td>/Users/saroltagabulya/git/Orca/2017-02-04--10-...</td>\n",
       "    </tr>\n",
       "  </tbody>\n",
       "</table>\n",
       "</div>"
      ],
      "text/plain": [
       "        onset      offset                                           filename\n",
       "0  842.037650  844.909211  /Users/saroltagabulya/git/Orca/2017-02-04--10-...\n",
       "1  849.358617  851.250553  /Users/saroltagabulya/git/Orca/2017-02-04--10-...\n",
       "2  856.731960  858.586944  /Users/saroltagabulya/git/Orca/2017-02-04--10-...\n",
       "3  870.880829  872.443733  /Users/saroltagabulya/git/Orca/2017-02-04--10-...\n",
       "4  879.143507  881.162606  /Users/saroltagabulya/git/Orca/2017-02-04--10-...\n",
       "5  926.733573  929.410736  /Users/saroltagabulya/git/Orca/2017-02-04--10-...\n",
       "6  952.981367  955.613625  /Users/saroltagabulya/git/Orca/2017-02-04--10-...\n",
       "7  971.885780  974.929328  /Users/saroltagabulya/git/Orca/2017-02-04--10-..."
      ]
     },
     "execution_count": 22,
     "metadata": {},
     "output_type": "execute_result"
    }
   ],
   "source": [
    "time_stamps"
   ]
  },
  {
   "cell_type": "markdown",
   "metadata": {},
   "source": [
    "### Make sure to save time_stamps as csv by clicking s on graph!"
   ]
  },
  {
   "cell_type": "code",
   "execution_count": null,
   "metadata": {},
   "outputs": [],
   "source": []
  },
  {
   "cell_type": "code",
   "execution_count": null,
   "metadata": {},
   "outputs": [],
   "source": []
  },
  {
   "cell_type": "code",
   "execution_count": null,
   "metadata": {},
   "outputs": [],
   "source": []
  },
  {
   "cell_type": "code",
   "execution_count": null,
   "metadata": {},
   "outputs": [],
   "source": []
  },
  {
   "cell_type": "code",
   "execution_count": null,
   "metadata": {},
   "outputs": [],
   "source": []
  },
  {
   "cell_type": "code",
   "execution_count": null,
   "metadata": {},
   "outputs": [],
   "source": []
  }
 ],
 "metadata": {
  "kernelspec": {
   "display_name": "Python 3",
   "language": "python",
   "name": "python3"
  },
  "language_info": {
   "codemirror_mode": {
    "name": "ipython",
    "version": 3
   },
   "file_extension": ".py",
   "mimetype": "text/x-python",
   "name": "python",
   "nbconvert_exporter": "python",
   "pygments_lexer": "ipython3",
   "version": "3.8.2"
  }
 },
 "nbformat": 4,
 "nbformat_minor": 4
}
