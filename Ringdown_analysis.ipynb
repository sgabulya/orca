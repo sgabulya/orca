{
 "cells": [
  {
   "cell_type": "markdown",
   "metadata": {},
   "source": [
    "## Import packages"
   ]
  },
  {
   "cell_type": "code",
   "execution_count": 2,
   "metadata": {},
   "outputs": [],
   "source": [
    "%matplotlib widget"
   ]
  },
  {
   "cell_type": "code",
   "execution_count": 3,
   "metadata": {},
   "outputs": [],
   "source": [
    "import os\n",
    "import glob\n",
    "import numpy  as np\n",
    "import pandas as pd\n",
    "import librosa\n",
    "import librosa.display\n",
    "import matplotlib.pyplot as plt\n",
    "import ipywidgets as widgets\n",
    "import wave"
   ]
  },
  {
   "cell_type": "markdown",
   "metadata": {},
   "source": [
    "### Choose file to inspect"
   ]
  },
  {
   "cell_type": "code",
   "execution_count": 4,
   "metadata": {},
   "outputs": [
    {
     "data": {
      "application/vnd.jupyter.widget-view+json": {
       "model_id": "b4ce8c21b664424bbed423600062efd3",
       "version_major": 2,
       "version_minor": 0
      },
      "text/plain": [
       "Dropdown(description='Wav files:', options=('wav_files/2015-11-10--15-25.wav', 'wav_files/2017-02-04--10-14-06…"
      ]
     },
     "metadata": {},
     "output_type": "display_data"
    },
    {
     "name": "stdout",
     "output_type": "stream",
     "text": [
      "wav_files/2017-02-04--10-14-06--00-16-35--BC.wav\n"
     ]
    }
   ],
   "source": [
    "directory='/Users/saroltagabulya/git/Orca/'\n",
    "wavs=glob.glob('wav_files/*.wav')\n",
    "file=[]\n",
    "\n",
    "dropdown=widgets.Dropdown(\n",
    "    options=wavs,\n",
    "    description='Wav files:',\n",
    "    disabled=False,\n",
    ")\n",
    "\n",
    "def dropdown_eventhandler(change):\n",
    "    file.clear()\n",
    "    file.append(change.new)\n",
    "    print(change.new)\n",
    "dropdown.observe(dropdown_eventhandler, names='value')\n",
    "display(dropdown)"
   ]
  },
  {
   "cell_type": "markdown",
   "metadata": {},
   "source": [
    "### Read metadata\n"
   ]
  },
  {
   "cell_type": "code",
   "execution_count": 6,
   "metadata": {},
   "outputs": [
    {
     "name": "stdout",
     "output_type": "stream",
     "text": [
      "Please check sampling rate manually in the metadata file and set below in Hz! \n",
      "100000\n",
      "Please check reference value in the files README and set below in uPa! \n",
      "1\n",
      "Please check calibration value in the files README and set below! \n",
      " what does the fullscale voltage correspond to in Pa? \n",
      " 1\n",
      "Please indicate the researcher who performs the crop by initials [SG, JR] \n",
      " SG\n"
     ]
    }
   ],
   "source": [
    "# Set sample rate\n",
    "try:\n",
    "    wave_file=wave.open(file[0], \"rb\")\n",
    "    sample_rate = wave_file.getframerate()\n",
    "except:\n",
    "    sample_rate=int(input('Please check sampling rate manually in the metadata file and set below in Hz! \\n'))\n",
    "    \n",
    "# Set reference value\n",
    "ref_value=int(input('Please check reference value in the files README and set below in uPa! \\n'))\n",
    "\n",
    "# Calibration value\n",
    "cal_value=int(input('Please check calibration value in the files README and set below! \\n what does the fullscale voltage correspond to in Pa? \\n '))\n",
    "\n",
    "\n",
    "# Set researcher\n",
    "researcher= input('Please indicate the researcher who performs the crop by initials [SG, JR] \\n ')"
   ]
  },
  {
   "cell_type": "markdown",
   "metadata": {},
   "source": [
    "### Read in wav file"
   ]
  },
  {
   "cell_type": "code",
   "execution_count": 7,
   "metadata": {},
   "outputs": [
    {
     "data": {
      "text/plain": [
       "['2017-02-04--10-14-06--00-16-35--BC_97052456_97622778.wav',\n",
       " '2017-02-04--10-14-06--00-16-35--BC_86994040_87290169.wav',\n",
       " '2017-02-04--10-14-06--00-16-35--BC_92602541_93030283.wav',\n",
       " '2017-02-04--10-14-06--00-16-35--BC_39943424_40415037.wav',\n",
       " '2017-02-04--10-14-06--00-16-35--BC_85157436_85135501.wav',\n",
       " '2017-02-04--10-14-06--00-16-35--BC_40985359_41544714.wav',\n",
       " '2017-02-04--10-14-06--00-16-35--BC_87915331_88178557.wav',\n",
       " '2017-02-04--10-14-06--00-16-35--BC_94554799_94730283.wav',\n",
       " '2017-02-04--10-14-06--00-16-35--BC_95196915_95668528.wav',\n",
       " '2017-02-04--10-14-06--00-16-35--BC_51657968_51921194.wav',\n",
       " '2017-02-04--10-14-06--00-16-35--BC_85629049_85958082.wav',\n",
       " '2017-02-04--10-14-06--00-16-35--BC_84192275_84576146.wav']"
      ]
     },
     "execution_count": 7,
     "metadata": {},
     "output_type": "execute_result"
    }
   ],
   "source": [
    "directory='/Users/saroltagabulya/git/Orca/call_segments/'\n",
    "\n",
    "folder_name = directory + file[0][10:-4]\n",
    "os.chdir(folder_name)\n",
    "wavs=glob.glob('*.wav')\n",
    "wavs"
   ]
  },
  {
   "cell_type": "markdown",
   "metadata": {},
   "source": [
    "### Calculate spectogram"
   ]
  },
  {
   "cell_type": "code",
   "execution_count": 8,
   "metadata": {},
   "outputs": [],
   "source": [
    "def open_wav(wav, sample_rate):\n",
    "    y, sr = librosa.load(wav, sr=sample_rate)\n",
    "    return y\n",
    "\n",
    "def convert_wav_to_spect(y, ref_value):\n",
    "    \n",
    "    if len(y)>0:\n",
    "        # Convert to spectogram \n",
    "        Y = librosa.stft(y, ) \n",
    "        Ydb = librosa.amplitude_to_db(abs(Y), ref=ref_value) # Try if it works leaving away abs!\n",
    "                                                   # Check whether reference should go in as amplitude or power\n",
    "        return Ydb\n",
    "    else: \n",
    "        print ('Error with wav')\n",
    "        return None"
   ]
  },
  {
   "cell_type": "markdown",
   "metadata": {},
   "source": [
    "### Event handling function"
   ]
  },
  {
   "cell_type": "code",
   "execution_count": 9,
   "metadata": {},
   "outputs": [],
   "source": [
    "def onclick_for_w(w):\n",
    "    def onclick(event):\n",
    "        if event.key=='b':\n",
    "            row.clear()\n",
    "            events.append(event)\n",
    "            row.append(event.xdata + (s)*10*60)\n",
    "            plt.gca().set_title('onset: {}'.format(event.xdata))\n",
    "\n",
    "        elif event.key=='e':\n",
    "            events.append(event)\n",
    "            row.append(event.xdata + (s)*10*60)\n",
    "            plt.gca().set_title('offset: {}'.format(event.xdata))\n",
    "\n",
    "            if len(row)==2:\n",
    "                row.append(filename)\n",
    "                time_stamps.loc[len(time_stamps)] = row\n",
    "                plt.gca().set_title('Timestamps appended. \\n onset: {} \\n offset {}'.format(onset, offset))\n",
    "                row.clear()\n",
    "\n",
    "        elif event.key == 's':\n",
    "            # save croppings\n",
    "            print('saved dataframe')\n",
    "            time_stamps.to_csv('time_stamps.csv')\n",
    "\n",
    "        else:\n",
    "            plt.gca().set_title('Could not interpret user input, please make a new selection:\\n b: define onset timestamps \\n e: define offset timestamp and add to df \\n s: save df to csv file'.format(onset, offset))\n",
    "    return onclick"
   ]
  },
  {
   "cell_type": "markdown",
   "metadata": {},
   "source": [
    "### Initializing data structures"
   ]
  },
  {
   "cell_type": "code",
   "execution_count": 32,
   "metadata": {},
   "outputs": [],
   "source": [
    "#amplitudes=pd.DataFrame()\n",
    "events = []\n",
    "row=[]"
   ]
  },
  {
   "cell_type": "markdown",
   "metadata": {},
   "source": [
    "### Close previous plots and replot interactive plots"
   ]
  },
  {
   "cell_type": "code",
   "execution_count": 33,
   "metadata": {},
   "outputs": [],
   "source": [
    "plt.close()"
   ]
  },
  {
   "cell_type": "code",
   "execution_count": 40,
   "metadata": {},
   "outputs": [
    {
     "data": {
      "application/vnd.jupyter.widget-view+json": {
       "model_id": "6f966841efa14c78a7169c3db39af8b9",
       "version_major": 2,
       "version_minor": 0
      },
      "text/plain": [
       "Canvas(toolbar=Toolbar(toolitems=[('Home', 'Reset original view', 'home', 'home'), ('Back', 'Back to previous …"
      ]
     },
     "metadata": {},
     "output_type": "display_data"
    },
    {
     "name": "stdout",
     "output_type": "stream",
     "text": [
      "succeeded to open 1\n"
     ]
    },
    {
     "data": {
      "application/vnd.jupyter.widget-view+json": {
       "model_id": "6562c485a5ac4a5b868f2d24503c4fd9",
       "version_major": 2,
       "version_minor": 0
      },
      "text/plain": [
       "Canvas(toolbar=Toolbar(toolitems=[('Home', 'Reset original view', 'home', 'home'), ('Back', 'Back to previous …"
      ]
     },
     "metadata": {},
     "output_type": "display_data"
    },
    {
     "name": "stdout",
     "output_type": "stream",
     "text": [
      "succeeded to open 2\n"
     ]
    }
   ],
   "source": [
    "for w in [1, 2]: #list(range(len(wavs))):\n",
    "    wav=wavs[w]\n",
    "    y=open_wav(wav, sample_rate)\n",
    "    Ydb=convert_wav_to_spect(y, ref_value)\n",
    "    \n",
    "    if type(Ydb)!= None: \n",
    "        \n",
    "        try: \n",
    "            plt.figure()\n",
    "\n",
    "            # tell mpl_connect we want to pass a 'button_press_event' into onclick when the event is detected\n",
    "            plt.gcf().canvas.mpl_connect('key_press_event', onclick_for_w(w))\n",
    "\n",
    "            librosa.display.specshow(Ydb, cmap='seismic', sr=sample_rate, x_axis='time', y_axis='hz')\n",
    "            plt.xlabel('time(samples)')\n",
    "            plt.ylabel('dBa relative to 1 uPa**2/Hz')\n",
    "            plt.colorbar()\n",
    "            plt.show()\n",
    "            print('succeeded to open {}'.format(w))\n",
    "            \n",
    "        except:\n",
    "                print('could not display spectogram')\n",
    "    else: \n",
    "        print('problem with wav')\n",
    "    "
   ]
  },
  {
   "cell_type": "code",
   "execution_count": null,
   "metadata": {},
   "outputs": [],
   "source": [
    "plt.show()"
   ]
  },
  {
   "cell_type": "code",
   "execution_count": 1,
   "metadata": {},
   "outputs": [
    {
     "ename": "NameError",
     "evalue": "name 'plt' is not defined",
     "output_type": "error",
     "traceback": [
      "\u001b[0;31m---------------------------------------------------------------------------\u001b[0m",
      "\u001b[0;31mNameError\u001b[0m                                 Traceback (most recent call last)",
      "\u001b[0;32m<ipython-input-1-60fa62c0aada>\u001b[0m in \u001b[0;36m<module>\u001b[0;34m\u001b[0m\n\u001b[0;32m----> 1\u001b[0;31m \u001b[0mplt\u001b[0m\u001b[0;34m.\u001b[0m\u001b[0mclose\u001b[0m\u001b[0;34m(\u001b[0m\u001b[0;34m)\u001b[0m\u001b[0;34m\u001b[0m\u001b[0;34m\u001b[0m\u001b[0m\n\u001b[0m",
      "\u001b[0;31mNameError\u001b[0m: name 'plt' is not defined"
     ]
    }
   ],
   "source": [
    "hop_length=256, n_fft=4096"
   ]
  },
  {
   "cell_type": "code",
   "execution_count": 13,
   "metadata": {},
   "outputs": [
    {
     "data": {
      "text/plain": [
       "100000"
      ]
     },
     "execution_count": 13,
     "metadata": {},
     "output_type": "execute_result"
    }
   ],
   "source": [
    "sample_rate"
   ]
  },
  {
   "cell_type": "code",
   "execution_count": 15,
   "metadata": {},
   "outputs": [
    {
     "data": {
      "text/plain": [
       "0.014251709"
      ]
     },
     "execution_count": 15,
     "metadata": {},
     "output_type": "execute_result"
    }
   ],
   "source": []
  },
  {
   "cell_type": "code",
   "execution_count": 35,
   "metadata": {},
   "outputs": [],
   "source": [
    "y=open_wav('2017-02-04--10-14-06--00-16-35--BC_39943424_40415037.wav', sample_rate)"
   ]
  },
  {
   "cell_type": "code",
   "execution_count": 36,
   "metadata": {},
   "outputs": [
    {
     "data": {
      "text/plain": [
       "array([0.00018311, 0.00030518, 0.00033569, ..., 0.00152588, 0.00167847,\n",
       "       0.0017395 ], dtype=float32)"
      ]
     },
     "execution_count": 36,
     "metadata": {},
     "output_type": "execute_result"
    }
   ],
   "source": [
    "y"
   ]
  },
  {
   "cell_type": "code",
   "execution_count": 28,
   "metadata": {},
   "outputs": [
    {
     "data": {
      "text/plain": [
       "['2017-02-04--10-14-06--00-16-35--BC_97052456_97622778.wav',\n",
       " '2017-02-04--10-14-06--00-16-35--BC_86994040_87290169.wav',\n",
       " '2017-02-04--10-14-06--00-16-35--BC_92602541_93030283.wav',\n",
       " '2017-02-04--10-14-06--00-16-35--BC_39943424_40415037.wav',\n",
       " '2017-02-04--10-14-06--00-16-35--BC_85157436_85135501.wav',\n",
       " '2017-02-04--10-14-06--00-16-35--BC_40985359_41544714.wav',\n",
       " '2017-02-04--10-14-06--00-16-35--BC_87915331_88178557.wav',\n",
       " '2017-02-04--10-14-06--00-16-35--BC_94554799_94730283.wav',\n",
       " '2017-02-04--10-14-06--00-16-35--BC_95196915_95668528.wav',\n",
       " '2017-02-04--10-14-06--00-16-35--BC_51657968_51921194.wav',\n",
       " '2017-02-04--10-14-06--00-16-35--BC_85629049_85958082.wav',\n",
       " '2017-02-04--10-14-06--00-16-35--BC_84192275_84576146.wav']"
      ]
     },
     "execution_count": 28,
     "metadata": {},
     "output_type": "execute_result"
    }
   ],
   "source": []
  },
  {
   "cell_type": "markdown",
   "metadata": {},
   "source": [
    "### Try out different spectogram parameters"
   ]
  },
  {
   "cell_type": "code",
   "execution_count": 165,
   "metadata": {},
   "outputs": [],
   "source": [
    "def open_wav(wav, sample_rate):\n",
    "    y, sr = librosa.load(wav, sr=sample_rate)\n",
    "    return y\n",
    "\n",
    "def convert_wav_to_spect(y, ref_value):\n",
    "    \n",
    "    if len(y)>0:\n",
    "        # Convert to spectogram \n",
    "        Y = librosa.stft(y, n_fft=1024, hop_length=32, win_length=500) \n",
    "        Ydb = librosa.amplitude_to_db(abs(Y), ref=ref_value) # Try if it works leaving away abs!\n",
    "                                                   # Check whether reference should go in as amplitude or power\n",
    "        return Ydb\n",
    "    else: \n",
    "        print ('Error with wav')\n",
    "        return None"
   ]
  },
  {
   "cell_type": "code",
   "execution_count": 166,
   "metadata": {
    "scrolled": true
   },
   "outputs": [
    {
     "data": {
      "application/vnd.jupyter.widget-view+json": {
       "model_id": "b0f15df2b8504386ab538039ba8850a0",
       "version_major": 2,
       "version_minor": 0
      },
      "text/plain": [
       "Canvas(toolbar=Toolbar(toolitems=[('Home', 'Reset original view', 'home', 'home'), ('Back', 'Back to previous …"
      ]
     },
     "metadata": {},
     "output_type": "display_data"
    }
   ],
   "source": [
    "wav='2017-02-04--10-14-06--00-16-35--BC_97052456_97622778.wav'\n",
    "y=open_wav(wav, sample_rate)\n",
    "Ydb=convert_wav_to_spect(y, ref_value)\n",
    "    \n",
    "#if type(Ydb)!= None: \n",
    "        \n",
    "\n",
    "#plt.figure(figsize=(round(np.shape(Ydb)[0]/10), round(np.shape(Ydb)[1]/10)))\n",
    "plt.figure(figsize=(10, 5))\n",
    "\n",
    "# tell mpl_connect we want to pass a 'button_press_event' into onclick when the event is detected\n",
    "#plt.gcf().canvas.mpl_connect('key_press_event', onclick_for_w(w))\n",
    "\n",
    "librosa.display.specshow(Ydb, cmap='seismic', sr=sample_rate, x_axis='time', y_axis='fft')\n",
    "plt.xlabel('time(samples)')\n",
    "plt.ylabel('dBa relative to 1 uPa**2/Hz')\n",
    "plt.colorbar()\n",
    "plt.show()"
   ]
  },
  {
   "cell_type": "code",
   "execution_count": 167,
   "metadata": {},
   "outputs": [],
   "source": [
    "plt.savefig('#21_nfft_1024_hop_32_win_500.png')"
   ]
  },
  {
   "cell_type": "code",
   "execution_count": null,
   "metadata": {},
   "outputs": [],
   "source": []
  }
 ],
 "metadata": {
  "kernelspec": {
   "display_name": "Python 3",
   "language": "python",
   "name": "python3"
  },
  "language_info": {
   "codemirror_mode": {
    "name": "ipython",
    "version": 3
   },
   "file_extension": ".py",
   "mimetype": "text/x-python",
   "name": "python",
   "nbconvert_exporter": "python",
   "pygments_lexer": "ipython3",
   "version": "3.8.2"
  }
 },
 "nbformat": 4,
 "nbformat_minor": 4
}
