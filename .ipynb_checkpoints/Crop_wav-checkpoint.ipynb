{
 "cells": [
  {
   "cell_type": "markdown",
   "metadata": {},
   "source": [
    "### Import packages"
   ]
  },
  {
   "cell_type": "code",
   "execution_count": 1,
   "metadata": {},
   "outputs": [],
   "source": [
    "%matplotlib widget"
   ]
  },
  {
   "cell_type": "code",
   "execution_count": 2,
   "metadata": {},
   "outputs": [],
   "source": [
    "import os\n",
    "import glob\n",
    "import numpy  as np\n",
    "import pandas as pd\n",
    "import librosa\n",
    "import librosa.display\n",
    "import matplotlib.pyplot as plt\n",
    "import ipywidgets as widgets"
   ]
  },
  {
   "cell_type": "markdown",
   "metadata": {},
   "source": [
    "### Choose file to inspect¶"
   ]
  },
  {
   "cell_type": "code",
   "execution_count": 5,
   "metadata": {},
   "outputs": [
    {
     "data": {
      "application/vnd.jupyter.widget-view+json": {
       "model_id": "c978d49368ae4ccba472c84801ddb2e8",
       "version_major": 2,
       "version_minor": 0
      },
      "text/plain": [
       "Dropdown(description='CSV files:', options=('time_stamps.csv', 'time_stamps_2017-02-04--10-14-06--00-16-35--BC…"
      ]
     },
     "metadata": {},
     "output_type": "display_data"
    },
    {
     "name": "stdout",
     "output_type": "stream",
     "text": [
      "time_stamps_2017-02-04--10-14-06--00-16-35--BC.csv\n"
     ]
    }
   ],
   "source": [
    "directory='/Users/saroltagabulya/git/Orca/'\n",
    "wavs=glob.glob('*.csv')\n",
    "file=[]\n",
    "\n",
    "dropdown=widgets.Dropdown(\n",
    "    options=wavs,\n",
    "    description='CSV files:',\n",
    "    disabled=False,\n",
    ")\n",
    "\n",
    "def dropdown_eventhandler(change):\n",
    "    file.clear()\n",
    "    file.append(change.new)\n",
    "    print(change.new)\n",
    "dropdown.observe(dropdown_eventhandler, names='value')\n",
    "display(dropdown)"
   ]
  },
  {
   "cell_type": "markdown",
   "metadata": {},
   "source": [
    "### Read csv file as pandas"
   ]
  },
  {
   "cell_type": "code",
   "execution_count": 14,
   "metadata": {},
   "outputs": [],
   "source": [
    "filename = directory + file[0]\n",
    "time_stamps=pd.read_csv(filename, index_col=0)"
   ]
  },
  {
   "cell_type": "code",
   "execution_count": 17,
   "metadata": {},
   "outputs": [
    {
     "data": {
      "text/plain": [
       "'/Users/saroltagabulya/git/Orca/time_stamps_2017-02-04--10-14-06--00-16-35--BC.csv'"
      ]
     },
     "execution_count": 17,
     "metadata": {},
     "output_type": "execute_result"
    }
   ],
   "source": [
    "filename"
   ]
  },
  {
   "cell_type": "markdown",
   "metadata": {},
   "source": [
    "### Read in wav"
   ]
  },
  {
   "cell_type": "code",
   "execution_count": 35,
   "metadata": {},
   "outputs": [],
   "source": [
    "y, sr = librosa.load(time_stamps.filename.unique()[0])"
   ]
  },
  {
   "cell_type": "code",
   "execution_count": 37,
   "metadata": {},
   "outputs": [
    {
     "data": {
      "text/plain": [
       "(21939970,)"
      ]
     },
     "execution_count": 37,
     "metadata": {},
     "output_type": "execute_result"
    }
   ],
   "source": [
    "np.shape(y)"
   ]
  },
  {
   "cell_type": "code",
   "execution_count": 39,
   "metadata": {},
   "outputs": [
    {
     "data": {
      "text/html": [
       "<div>\n",
       "<style scoped>\n",
       "    .dataframe tbody tr th:only-of-type {\n",
       "        vertical-align: middle;\n",
       "    }\n",
       "\n",
       "    .dataframe tbody tr th {\n",
       "        vertical-align: top;\n",
       "    }\n",
       "\n",
       "    .dataframe thead th {\n",
       "        text-align: right;\n",
       "    }\n",
       "</style>\n",
       "<table border=\"1\" class=\"dataframe\">\n",
       "  <thead>\n",
       "    <tr style=\"text-align: right;\">\n",
       "      <th></th>\n",
       "      <th>onset</th>\n",
       "      <th>offset</th>\n",
       "      <th>filename</th>\n",
       "    </tr>\n",
       "  </thead>\n",
       "  <tbody>\n",
       "    <tr>\n",
       "      <th>0</th>\n",
       "      <td>841.922751</td>\n",
       "      <td>845.761460</td>\n",
       "      <td>/Users/saroltagabulya/git/Orca/2017-02-04--10-...</td>\n",
       "    </tr>\n",
       "    <tr>\n",
       "      <th>1</th>\n",
       "      <td>851.574364</td>\n",
       "      <td>851.355009</td>\n",
       "      <td>/Users/saroltagabulya/git/Orca/2017-02-04--10-...</td>\n",
       "    </tr>\n",
       "    <tr>\n",
       "      <th>2</th>\n",
       "      <td>856.290493</td>\n",
       "      <td>859.580815</td>\n",
       "      <td>/Users/saroltagabulya/git/Orca/2017-02-04--10-...</td>\n",
       "    </tr>\n",
       "    <tr>\n",
       "      <th>3</th>\n",
       "      <td>869.940404</td>\n",
       "      <td>872.901695</td>\n",
       "      <td>/Users/saroltagabulya/git/Orca/2017-02-04--10-...</td>\n",
       "    </tr>\n",
       "    <tr>\n",
       "      <th>4</th>\n",
       "      <td>879.153308</td>\n",
       "      <td>881.785566</td>\n",
       "      <td>/Users/saroltagabulya/git/Orca/2017-02-04--10-...</td>\n",
       "    </tr>\n",
       "    <tr>\n",
       "      <th>5</th>\n",
       "      <td>926.025410</td>\n",
       "      <td>930.302829</td>\n",
       "      <td>/Users/saroltagabulya/git/Orca/2017-02-04--10-...</td>\n",
       "    </tr>\n",
       "    <tr>\n",
       "      <th>6</th>\n",
       "      <td>945.547990</td>\n",
       "      <td>947.302829</td>\n",
       "      <td>/Users/saroltagabulya/git/Orca/2017-02-04--10-...</td>\n",
       "    </tr>\n",
       "    <tr>\n",
       "      <th>7</th>\n",
       "      <td>951.969153</td>\n",
       "      <td>956.685282</td>\n",
       "      <td>/Users/saroltagabulya/git/Orca/2017-02-04--10-...</td>\n",
       "    </tr>\n",
       "    <tr>\n",
       "      <th>8</th>\n",
       "      <td>970.524559</td>\n",
       "      <td>976.227785</td>\n",
       "      <td>/Users/saroltagabulya/git/Orca/2017-02-04--10-...</td>\n",
       "    </tr>\n",
       "    <tr>\n",
       "      <th>9</th>\n",
       "      <td>399.434236</td>\n",
       "      <td>404.150365</td>\n",
       "      <td>/Users/saroltagabulya/git/Orca/2017-02-04--10-...</td>\n",
       "    </tr>\n",
       "    <tr>\n",
       "      <th>10</th>\n",
       "      <td>409.853591</td>\n",
       "      <td>415.447140</td>\n",
       "      <td>/Users/saroltagabulya/git/Orca/2017-02-04--10-...</td>\n",
       "    </tr>\n",
       "    <tr>\n",
       "      <th>11</th>\n",
       "      <td>516.579681</td>\n",
       "      <td>519.211939</td>\n",
       "      <td>/Users/saroltagabulya/git/Orca/2017-02-04--10-...</td>\n",
       "    </tr>\n",
       "  </tbody>\n",
       "</table>\n",
       "</div>"
      ],
      "text/plain": [
       "         onset      offset                                           filename\n",
       "0   841.922751  845.761460  /Users/saroltagabulya/git/Orca/2017-02-04--10-...\n",
       "1   851.574364  851.355009  /Users/saroltagabulya/git/Orca/2017-02-04--10-...\n",
       "2   856.290493  859.580815  /Users/saroltagabulya/git/Orca/2017-02-04--10-...\n",
       "3   869.940404  872.901695  /Users/saroltagabulya/git/Orca/2017-02-04--10-...\n",
       "4   879.153308  881.785566  /Users/saroltagabulya/git/Orca/2017-02-04--10-...\n",
       "5   926.025410  930.302829  /Users/saroltagabulya/git/Orca/2017-02-04--10-...\n",
       "6   945.547990  947.302829  /Users/saroltagabulya/git/Orca/2017-02-04--10-...\n",
       "7   951.969153  956.685282  /Users/saroltagabulya/git/Orca/2017-02-04--10-...\n",
       "8   970.524559  976.227785  /Users/saroltagabulya/git/Orca/2017-02-04--10-...\n",
       "9   399.434236  404.150365  /Users/saroltagabulya/git/Orca/2017-02-04--10-...\n",
       "10  409.853591  415.447140  /Users/saroltagabulya/git/Orca/2017-02-04--10-...\n",
       "11  516.579681  519.211939  /Users/saroltagabulya/git/Orca/2017-02-04--10-..."
      ]
     },
     "execution_count": 39,
     "metadata": {},
     "output_type": "execute_result"
    }
   ],
   "source": [
    "time_stamps"
   ]
  },
  {
   "cell_type": "code",
   "execution_count": null,
   "metadata": {},
   "outputs": [],
   "source": []
  }
 ],
 "metadata": {
  "kernelspec": {
   "display_name": "Python 3",
   "language": "python",
   "name": "python3"
  },
  "language_info": {
   "codemirror_mode": {
    "name": "ipython",
    "version": 3
   },
   "file_extension": ".py",
   "mimetype": "text/x-python",
   "name": "python",
   "nbconvert_exporter": "python",
   "pygments_lexer": "ipython3",
   "version": "3.8.2"
  }
 },
 "nbformat": 4,
 "nbformat_minor": 4
}
