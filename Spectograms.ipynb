{
 "cells": [
  {
   "cell_type": "markdown",
   "metadata": {},
   "source": [
    "### Import packages"
   ]
  },
  {
   "cell_type": "code",
   "execution_count": 1,
   "metadata": {},
   "outputs": [],
   "source": [
    "import os\n",
    "import glob\n",
    "import librosa\n",
    "import librosa.display\n",
    "import matplotlib.pyplot as plt\n",
    "import ipywidgets as widgets\n",
    "import soundfile as sf\n",
    "import yaml"
   ]
  },
  {
   "cell_type": "markdown",
   "metadata": {},
   "source": [
    "### Choose file to inspect¶"
   ]
  },
  {
   "cell_type": "code",
   "execution_count": 2,
   "metadata": {},
   "outputs": [
    {
     "data": {
      "application/vnd.jupyter.widget-view+json": {
       "model_id": "1de8e4cfefe0488792d1de6235a5dc2d",
       "version_major": 2,
       "version_minor": 0
      },
      "text/plain": [
       "Dropdown(description='CSV files:', options=('.DS_Store', '2017-02-04--10-25-15--00-05-25--C', '.ipynb_checkpoi…"
      ]
     },
     "metadata": {},
     "output_type": "display_data"
    },
    {
     "name": "stdout",
     "output_type": "stream",
     "text": [
      "2017-02-04--10-25-15--00-05-25--C\n"
     ]
    }
   ],
   "source": [
    "directory='/Users/saroltagabulya/git/Orca/call_segments/'\n",
    "\n",
    "folders=os.listdir(directory)\n",
    "file=[]\n",
    "\n",
    "dropdown=widgets.Dropdown(\n",
    "    options=folders,\n",
    "    description='CSV files:',\n",
    "    disabled=False,\n",
    ")\n",
    "\n",
    "def dropdown_eventhandler(change):\n",
    "    file.clear()\n",
    "    file.append(change.new)\n",
    "    print(change.new)\n",
    "dropdown.observe(dropdown_eventhandler, names='value')\n",
    "display(dropdown)"
   ]
  },
  {
   "cell_type": "markdown",
   "metadata": {},
   "source": [
    "### Read wav file names"
   ]
  },
  {
   "cell_type": "code",
   "execution_count": 3,
   "metadata": {},
   "outputs": [
    {
     "data": {
      "text/plain": [
       "['2017-02-04--10-28-15--00-00-03--C.wav',\n",
       " '2017-02-04--10-28-45--00-00-03--C.wav',\n",
       " '2017-02-04--10-29-32--00-00-04--C.wav',\n",
       " '2017-02-04--10-30-18--00-00-04--C.wav',\n",
       " '2017-02-04--10-28-22--00-00-04--C.wav',\n",
       " '2017-02-04--10-28-08--00-00-04--C.wav',\n",
       " '2017-02-04--10-28-03--00-00-01--C.wav',\n",
       " '2017-02-04--10-29-58--00-00-03--C.wav',\n",
       " '2017-02-04--10-28-36--00-00-03--C.wav',\n",
       " '2017-02-04--10-29-52--00-00-03--C.wav']"
      ]
     },
     "execution_count": 3,
     "metadata": {},
     "output_type": "execute_result"
    }
   ],
   "source": [
    "folder_name = directory + file[0]\n",
    "os.chdir(folder_name)\n",
    "wavs=glob.glob('*.wav')\n",
    "wavs"
   ]
  },
  {
   "cell_type": "markdown",
   "metadata": {},
   "source": [
    "### Extract samplerate from metadata file"
   ]
  },
  {
   "cell_type": "code",
   "execution_count": 4,
   "metadata": {},
   "outputs": [],
   "source": [
    "w=wavs[0]\n",
    "yml_file=w[:-3] + 'yml'\n",
    "\n",
    "\n",
    "with open(yml_file) as file:\n",
    "    # The FullLoader parameter handles the conversion from YAML\n",
    "    # scalar values to Python the dictionary format\n",
    "    metadata = yaml.load(file, Loader=yaml.FullLoader)\n",
    "\n",
    "sample_rate=metadata['sample_rate']"
   ]
  },
  {
   "cell_type": "markdown",
   "metadata": {},
   "source": [
    "### Functions for converting wavs into spectrograms"
   ]
  },
  {
   "cell_type": "code",
   "execution_count": 7,
   "metadata": {},
   "outputs": [],
   "source": [
    "def open_wav(file, sample_rate):\n",
    "    y, sr = librosa.load(file, sr=sample_rate)\n",
    "    return y, sr\n",
    "\n",
    "def wav_to_spect(y, sr, file): #, call_wav\n",
    "    \n",
    "    yml_file=file[:-3] + 'yml'\n",
    "\n",
    "\n",
    "    with open(yml_file) as f:\n",
    "        # The FullLoader parameter handles the conversion from YAML\n",
    "        # scalar values to Python the dictionary format\n",
    "        metadata = yaml.load(f, Loader=yaml.FullLoader)\n",
    "\n",
    "    ref=metadata['reference_value']\n",
    "    raw_unit=metadata['raw_signal_unit']\n",
    "    start_utc=metadata['start_utc']\n",
    "    duration_seconds=metadata['duration_seconds']\n",
    "    \n",
    "    nfft=1024\n",
    "    hop_length=32\n",
    "    win_length=400\n",
    "    \n",
    "    if len(y)>0:\n",
    "        # Convert to spectogram \n",
    "        \n",
    "        Y = librosa.stft(y, n_fft=nfft, hop_length=hop_length, win_length=win_length) \n",
    "        Ydb = librosa.amplitude_to_db(abs(Y), ref=1)\n",
    "        \n",
    "        librosa.display.specshow(Ydb, cmap='seismic', sr=sr, x_axis='time', y_axis='fft', hop_length=32)\n",
    "        \n",
    "        cb=plt.colorbar()\n",
    "        cb.set_label('Power [dB re to {} {}^2]'.format(ref, raw_unit), rotation=270, labelpad=+15)\n",
    "\n",
    "        plt.xlabel('Time [s]')\n",
    "        plt.ylabel('Frequency [kHz]'.format(ref, raw_unit))\n",
    "        ticks, labels = plt.yticks()\n",
    "        plt.yticks(ticks, [str(t / 1000) for t in ticks])\n",
    "        plt.title('onset: {} (UTC) \\nduration: {} seconds'.format(start_utc, duration_seconds))\n",
    "        \n",
    "\n",
    "        # Save spectograms\n",
    "        plt.savefig(file[:-3] + 'png', bbox_inches='tight', dpi=600, facecolor='White')\n",
    "        plt.close()\n",
    "    \n",
    "        return nfft, hop_length, win_length\n",
    "    \n",
    "    else: \n",
    "        return 'Error with wav'"
   ]
  },
  {
   "cell_type": "markdown",
   "metadata": {},
   "source": [
    "### Iterate through wav files and save out spects"
   ]
  },
  {
   "cell_type": "code",
   "execution_count": 8,
   "metadata": {},
   "outputs": [
    {
     "name": "stdout",
     "output_type": "stream",
     "text": [
      "0\n",
      "1\n",
      "2\n",
      "3\n",
      "4\n",
      "5\n",
      "6\n",
      "7\n",
      "8\n",
      "9\n"
     ]
    }
   ],
   "source": [
    "for w in list(range(len(wavs))): \n",
    "    print(w)\n",
    "    wav=wavs[w]\n",
    "    y, sr =open_wav(wav, sample_rate)\n",
    "    nfft, hop_length, win_length= wav_to_spect(y, sample_rate, wav)"
   ]
  },
  {
   "cell_type": "markdown",
   "metadata": {},
   "source": [
    "### Create spect_meta file"
   ]
  },
  {
   "cell_type": "code",
   "execution_count": 28,
   "metadata": {},
   "outputs": [],
   "source": [
    "spect_meta={}\n",
    "\n",
    "spect_meta['nfft']=nfft\n",
    "spect_meta['hop_length']=hop_length\n",
    "spect_meta['win_length']=win_length\n",
    "spect_meta['sample_rate']=sr"
   ]
  },
  {
   "cell_type": "code",
   "execution_count": 29,
   "metadata": {},
   "outputs": [],
   "source": [
    "with open('spect_meta.yml', 'w') as outfile:\n",
    "    yaml.dump(spect_meta, outfile)"
   ]
  },
  {
   "cell_type": "code",
   "execution_count": null,
   "metadata": {},
   "outputs": [],
   "source": []
  }
 ],
 "metadata": {
  "kernelspec": {
   "display_name": "Python 3",
   "language": "python",
   "name": "python3"
  },
  "language_info": {
   "codemirror_mode": {
    "name": "ipython",
    "version": 3
   },
   "file_extension": ".py",
   "mimetype": "text/x-python",
   "name": "python",
   "nbconvert_exporter": "python",
   "pygments_lexer": "ipython3",
   "version": "3.8.2"
  }
 },
 "nbformat": 4,
 "nbformat_minor": 4
}
