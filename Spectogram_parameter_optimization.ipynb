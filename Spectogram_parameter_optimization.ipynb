{
 "cells": [
  {
   "cell_type": "markdown",
   "metadata": {},
   "source": [
    "## Import packages"
   ]
  },
  {
   "cell_type": "code",
   "execution_count": 1,
   "metadata": {},
   "outputs": [],
   "source": [
    "%matplotlib widget"
   ]
  },
  {
   "cell_type": "code",
   "execution_count": 48,
   "metadata": {},
   "outputs": [],
   "source": [
    "import os\n",
    "import glob\n",
    "import numpy  as np\n",
    "import pandas as pd\n",
    "import librosa\n",
    "import librosa.display\n",
    "import matplotlib.pyplot as plt\n",
    "import ipywidgets as widgets\n",
    "import wave\n",
    "import yaml"
   ]
  },
  {
   "cell_type": "markdown",
   "metadata": {},
   "source": [
    "### Choose file to inspect"
   ]
  },
  {
   "cell_type": "code",
   "execution_count": 3,
   "metadata": {},
   "outputs": [
    {
     "data": {
      "application/vnd.jupyter.widget-view+json": {
       "model_id": "5697837e88a44d069aa93fbe79a6e166",
       "version_major": 2,
       "version_minor": 0
      },
      "text/plain": [
       "Dropdown(description='Wav files:', options=('wav_files/2015-11-10--15-25.wav', 'wav_files/2017-02-04--10-25-15…"
      ]
     },
     "metadata": {},
     "output_type": "display_data"
    },
    {
     "name": "stdout",
     "output_type": "stream",
     "text": [
      "wav_files/2017-02-04--10-25-15--00-05-25--C.wav\n"
     ]
    }
   ],
   "source": [
    "directory='/Users/saroltagabulya/git/Orca/'\n",
    "wavs=glob.glob('wav_files/*.wav')\n",
    "file=[]\n",
    "\n",
    "dropdown=widgets.Dropdown(\n",
    "    options=wavs,\n",
    "    description='Wav files:',\n",
    "    disabled=False,\n",
    ")\n",
    "\n",
    "def dropdown_eventhandler(change):\n",
    "    file.clear()\n",
    "    file.append(change.new)\n",
    "    print(change.new)\n",
    "dropdown.observe(dropdown_eventhandler, names='value')\n",
    "display(dropdown)"
   ]
  },
  {
   "cell_type": "markdown",
   "metadata": {},
   "source": [
    "### Read metadata\n"
   ]
  },
  {
   "cell_type": "code",
   "execution_count": 4,
   "metadata": {},
   "outputs": [
    {
     "name": "stdout",
     "output_type": "stream",
     "text": [
      "Please check sampling rate manually in the metadata file and set below in Hz! \n",
      "100000\n",
      "Please check reference value in the files README and set below in uPa! \n",
      "1\n",
      "Please check calibration value in the files README and set below! \n",
      " what does the fullscale voltage correspond to in Pa? \n",
      " 1\n",
      "Please indicate the researcher who performs the crop by initials [SG, JR] \n",
      " SG\n"
     ]
    }
   ],
   "source": [
    "# Set sample rate\n",
    "try:\n",
    "    wave_file=wave.open(file[0], \"rb\")\n",
    "    sample_rate = wave_file.getframerate()\n",
    "except:\n",
    "    sample_rate=int(input('Please check sampling rate manually in the metadata file and set below in Hz! \\n'))\n",
    "    \n",
    "# Set reference value\n",
    "ref_value=int(input('Please check reference value in the files README and set below in uPa! \\n'))\n",
    "\n",
    "# Calibration value\n",
    "cal_value=int(input('Please check calibration value in the files README and set below! \\n what does the fullscale voltage correspond to in Pa? \\n '))\n",
    "\n",
    "\n",
    "# Set researcher\n",
    "researcher= input('Please indicate the researcher who performs the crop by initials [SG, JR] \\n ')"
   ]
  },
  {
   "cell_type": "markdown",
   "metadata": {},
   "source": [
    "### Read in wav file"
   ]
  },
  {
   "cell_type": "code",
   "execution_count": 5,
   "metadata": {},
   "outputs": [
    {
     "data": {
      "text/plain": [
       "['2017-02-04--10-28-15--00-00-03--C.wav',\n",
       " '2017-02-04--10-28-45--00-00-03--C.wav',\n",
       " '2017-02-04--10-29-32--00-00-04--C.wav',\n",
       " '2017-02-04--10-30-18--00-00-04--C.wav',\n",
       " '2017-02-04--10-28-22--00-00-04--C.wav',\n",
       " '2017-02-04--10-28-08--00-00-04--C.wav',\n",
       " '2017-02-04--10-28-03--00-00-01--C.wav',\n",
       " '2017-02-04--10-29-58--00-00-03--C.wav',\n",
       " '2017-02-04--10-28-36--00-00-03--C.wav',\n",
       " '2017-02-04--10-29-52--00-00-03--C.wav']"
      ]
     },
     "execution_count": 5,
     "metadata": {},
     "output_type": "execute_result"
    }
   ],
   "source": [
    "directory='/Users/saroltagabulya/git/Orca/call_segments/'\n",
    "\n",
    "folder_name = directory + file[0][10:-4]\n",
    "os.chdir(folder_name)\n",
    "wavs=glob.glob('*.wav')\n",
    "wavs"
   ]
  },
  {
   "cell_type": "markdown",
   "metadata": {},
   "source": [
    "### Choose specific wav"
   ]
  },
  {
   "cell_type": "code",
   "execution_count": 11,
   "metadata": {},
   "outputs": [
    {
     "data": {
      "text/plain": [
       "'2017-02-04--10-29-52--00-00-03--C.wav'"
      ]
     },
     "execution_count": 11,
     "metadata": {},
     "output_type": "execute_result"
    }
   ],
   "source": [
    "the_wav=wavs[-1]\n",
    "\n",
    "the_wav"
   ]
  },
  {
   "cell_type": "markdown",
   "metadata": {},
   "source": [
    "### Calculate spectogram"
   ]
  },
  {
   "cell_type": "code",
   "execution_count": 54,
   "metadata": {},
   "outputs": [],
   "source": [
    "def open_wav(file, sample_rate):\n",
    "    y, sr = librosa.load(file, sr=sample_rate, mono=False)\n",
    "    return y, sr\n",
    "\n",
    "def wav_to_spect_params(y, sr, file, nfft, hop_length, win_length): #, call_wav\n",
    "    \n",
    "    yml_file=file[:-3] + 'yml'\n",
    "\n",
    "\n",
    "    with open(yml_file) as f:\n",
    "        # The FullLoader parameter handles the conversion from YAML\n",
    "        # scalar values to Python the dictionary format\n",
    "        metadata = yaml.load(f, Loader=yaml.FullLoader)\n",
    "\n",
    "    ref=metadata['reference_value']\n",
    "    raw_unit=metadata['raw_signal_unit']\n",
    "    start_utc=metadata['start_utc']\n",
    "    duration_seconds=metadata['duration_seconds']\n",
    "\n",
    "    \n",
    "    if len(y)>0:\n",
    "        # Convert to spectogram \n",
    "        \n",
    "        Y = librosa.stft(y, n_fft=nfft, hop_length=hop_length, win_length=win_length) \n",
    "        Ydb = librosa.amplitude_to_db(abs(Y), ref=1)\n",
    "        \n",
    "        librosa.display.specshow(Ydb, cmap='seismic', sr=sr, x_axis='time', y_axis='fft', hop_length=32)\n",
    "        \n",
    "        cb=plt.colorbar()\n",
    "        cb.set_label('Power [dB re to {} {}^2]'.format(ref, raw_unit), rotation=270, labelpad=+15)\n",
    "\n",
    "        plt.xlabel('Time [s]')\n",
    "        plt.ylabel('Frequency [kHz]'.format(ref, raw_unit))\n",
    "        ticks, labels = plt.yticks()\n",
    "        plt.yticks(ticks, [str(t / 1000) for t in ticks])\n",
    "        plt.title('onset: {} (UTC) \\nduration: {} seconds'.format(start_utc, duration_seconds))\n",
    "        \n",
    "\n",
    "        # Save spectograms\n",
    "        plt.savefig(file[:-3] + 'png', bbox_inches='tight', dpi=600, facecolor='White')\n",
    "        plt.close()\n",
    "    \n",
    "        return Ydb\n",
    "    \n",
    "    else: \n",
    "        return 'Error with wav'"
   ]
  },
  {
   "cell_type": "code",
   "execution_count": 55,
   "metadata": {},
   "outputs": [],
   "source": [
    "#Close and previous graphs\n",
    "plt.close()"
   ]
  },
  {
   "cell_type": "code",
   "execution_count": 65,
   "metadata": {},
   "outputs": [],
   "source": [
    "nffts=[512, 2048, 8192]\n",
    "\n",
    "hop_l=[32, 32, 32]\n",
    "\n",
    "win_l=[512, 2048, 8192]"
   ]
  },
  {
   "cell_type": "code",
   "execution_count": 69,
   "metadata": {
    "scrolled": true
   },
   "outputs": [
    {
     "data": {
      "application/vnd.jupyter.widget-view+json": {
       "model_id": "e9fe2f1fa7bd45e387880cd4c0942c01",
       "version_major": 2,
       "version_minor": 0
      },
      "text/plain": [
       "Canvas(toolbar=Toolbar(toolitems=[('Home', 'Reset original view', 'home', 'home'), ('Back', 'Back to previous …"
      ]
     },
     "metadata": {},
     "output_type": "display_data"
    },
    {
     "ename": "NameError",
     "evalue": "name 'raw_unit' is not defined",
     "output_type": "error",
     "traceback": [
      "\u001b[0;31m---------------------------------------------------------------------------\u001b[0m",
      "\u001b[0;31mNameError\u001b[0m                                 Traceback (most recent call last)",
      "\u001b[0;32m<ipython-input-69-34e46dda3c18>\u001b[0m in \u001b[0;36m<module>\u001b[0;34m\u001b[0m\n\u001b[1;32m     22\u001b[0m \u001b[0;34m\u001b[0m\u001b[0m\n\u001b[1;32m     23\u001b[0m     \u001b[0mcb\u001b[0m\u001b[0;34m=\u001b[0m\u001b[0mplt\u001b[0m\u001b[0;34m.\u001b[0m\u001b[0mcolorbar\u001b[0m\u001b[0;34m(\u001b[0m\u001b[0;34m)\u001b[0m\u001b[0;34m\u001b[0m\u001b[0;34m\u001b[0m\u001b[0m\n\u001b[0;32m---> 24\u001b[0;31m     \u001b[0mcb\u001b[0m\u001b[0;34m.\u001b[0m\u001b[0mset_label\u001b[0m\u001b[0;34m(\u001b[0m\u001b[0;34m'Power [dB re to {} {}^2]'\u001b[0m\u001b[0;34m.\u001b[0m\u001b[0mformat\u001b[0m\u001b[0;34m(\u001b[0m\u001b[0mref_value\u001b[0m\u001b[0;34m,\u001b[0m \u001b[0mraw_unit\u001b[0m\u001b[0;34m)\u001b[0m\u001b[0;34m,\u001b[0m \u001b[0mrotation\u001b[0m\u001b[0;34m=\u001b[0m\u001b[0;36m270\u001b[0m\u001b[0;34m,\u001b[0m \u001b[0mlabelpad\u001b[0m\u001b[0;34m=\u001b[0m\u001b[0;34m+\u001b[0m\u001b[0;36m15\u001b[0m\u001b[0;34m)\u001b[0m\u001b[0;34m\u001b[0m\u001b[0;34m\u001b[0m\u001b[0m\n\u001b[0m\u001b[1;32m     25\u001b[0m \u001b[0;34m\u001b[0m\u001b[0m\n\u001b[1;32m     26\u001b[0m \u001b[0;34m\u001b[0m\u001b[0m\n",
      "\u001b[0;31mNameError\u001b[0m: name 'raw_unit' is not defined"
     ]
    }
   ],
   "source": [
    "fig=plt.figure()\n",
    "\n",
    "cols=3\n",
    "rows=round(len(nffts)/3)\n",
    "\n",
    "\n",
    "for p in range(len(nffts)):\n",
    "\n",
    "    y, sr=open_wav(the_wav, sample_rate)\n",
    "\n",
    "    Ydb=wav_to_spect_params(y, ref_value, the_wav, nffts[p], hop_l[p], win_l[p])\n",
    "\n",
    "    #if type(Ydb)!= None: \n",
    "\n",
    "    #plt.figure(figsize=(round(np.shape(Ydb)[0]/10), round(np.shape(Ydb)[1]/10)))\n",
    "    fig.add_subplot(cols, rows, p+1)\n",
    "\n",
    "    # tell mpl_connect we want to pass a 'button_press_event' into onclick when the event is detected\n",
    "    #plt.gcf().canvas.mpl_connect('key_press_event', onclick_for_w(w))\n",
    "\n",
    "    librosa.display.specshow(Ydb, cmap='seismic', sr=sample_rate, x_axis='time', y_axis='fft')\n",
    "    \n",
    "    cb=plt.colorbar()\n",
    "    cb.set_label('Power [dB re to {} {}^2]'.format(ref_value, raw_unit), rotation=270, labelpad=+15)\n",
    "    \n",
    "    \n",
    "    plt.xlabel('time(samples)')\n",
    "    plt.ylabel('dBa relative to 1 uPa**2/Hz')\n",
    "    plt.axis([(1.450/3)*plt.xlim()[1], (1.650/3)*plt.xlim()[1], (16000/50000)*plt.ylim()[1], (20000/50000)*plt.ylim()[1]])\n",
    "    plt.show()"
   ]
  },
  {
   "cell_type": "code",
   "execution_count": 61,
   "metadata": {},
   "outputs": [
    {
     "data": {
      "text/plain": [
       "48.00512"
      ]
     },
     "execution_count": 61,
     "metadata": {},
     "output_type": "execute_result"
    }
   ],
   "source": [
    "y, sr=open_wav(the_wav, sample_rate)\n",
    "\n",
    "plt.xlim()[1]"
   ]
  },
  {
   "cell_type": "code",
   "execution_count": null,
   "metadata": {},
   "outputs": [],
   "source": [
    "    \n",
    "    nfft=1024\n",
    "    hop_length=32\n",
    "    win_length=400"
   ]
  }
 ],
 "metadata": {
  "kernelspec": {
   "display_name": "Python 3",
   "language": "python",
   "name": "python3"
  },
  "language_info": {
   "codemirror_mode": {
    "name": "ipython",
    "version": 3
   },
   "file_extension": ".py",
   "mimetype": "text/x-python",
   "name": "python",
   "nbconvert_exporter": "python",
   "pygments_lexer": "ipython3",
   "version": "3.8.2"
  }
 },
 "nbformat": 4,
 "nbformat_minor": 4
}
