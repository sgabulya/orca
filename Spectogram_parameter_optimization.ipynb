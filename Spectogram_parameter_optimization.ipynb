{
 "cells": [
  {
   "cell_type": "markdown",
   "metadata": {},
   "source": [
    "## Import packages"
   ]
  },
  {
   "cell_type": "code",
   "execution_count": 1,
   "metadata": {},
   "outputs": [],
   "source": [
    "%matplotlib widget"
   ]
  },
  {
   "cell_type": "code",
   "execution_count": 2,
   "metadata": {},
   "outputs": [],
   "source": [
    "import os\n",
    "import glob\n",
    "import numpy  as np\n",
    "import pandas as pd\n",
    "import librosa\n",
    "import librosa.display\n",
    "import matplotlib.pyplot as plt\n",
    "import ipywidgets as widgets\n",
    "import wave\n",
    "import yaml\n",
    "import math"
   ]
  },
  {
   "cell_type": "markdown",
   "metadata": {},
   "source": [
    "### Choose file to inspect"
   ]
  },
  {
   "cell_type": "code",
   "execution_count": 3,
   "metadata": {},
   "outputs": [
    {
     "data": {
      "application/vnd.jupyter.widget-view+json": {
       "model_id": "2f25957b896d4509b4787f8a86f9219d",
       "version_major": 2,
       "version_minor": 0
      },
      "text/plain": [
       "Dropdown(description='Wav files:', options=('wav_files/2015-11-10--15-25.wav', 'wav_files/2017-02-04--10-25-15…"
      ]
     },
     "metadata": {},
     "output_type": "display_data"
    },
    {
     "name": "stdout",
     "output_type": "stream",
     "text": [
      "wav_files/2017-02-04--10-25-15--00-05-25--C.wav\n"
     ]
    }
   ],
   "source": [
    "directory='/Users/saroltagabulya/git/Orca/'\n",
    "wavs=glob.glob('wav_files/*.wav')\n",
    "file=[]\n",
    "\n",
    "dropdown=widgets.Dropdown(\n",
    "    options=wavs,\n",
    "    description='Wav files:',\n",
    "    disabled=False,\n",
    ")\n",
    "\n",
    "def dropdown_eventhandler(change):\n",
    "    file.clear()\n",
    "    file.append(change.new)\n",
    "    print(change.new)\n",
    "dropdown.observe(dropdown_eventhandler, names='value')\n",
    "display(dropdown)"
   ]
  },
  {
   "cell_type": "markdown",
   "metadata": {},
   "source": [
    "### Read metadata\n"
   ]
  },
  {
   "cell_type": "code",
   "execution_count": 4,
   "metadata": {},
   "outputs": [
    {
     "name": "stdout",
     "output_type": "stream",
     "text": [
      "Please check sampling rate manually in the metadata file and set below in Hz! \n",
      "100000\n",
      "Please check the raw unit of the signal and enter below \n",
      " V\n",
      "Please check reference value in the metadata files and set below!  \n",
      "1\n",
      "If available, please check calibration value of hydrophons in the metadata files and set below! \n",
      " what does the fullscale voltage correspond to in Pa? \n",
      " 1\n",
      "Please indicate the researcher who performs the crop by initials [SG, JR] \n",
      " SG\n"
     ]
    }
   ],
   "source": [
    "# Set sample rate\n",
    "try:\n",
    "    wave_file=wave.open(file[0], \"rb\")\n",
    "    sample_rate = wave_file.getframerate()\n",
    "except:\n",
    "    sample_rate=int(input('Please check sampling rate manually in the metadata file and set below in Hz! \\n'))\n",
    "    \n",
    "# Set raw unit of signal\n",
    "raw_unit=input('Please check the raw unit of the signal and enter below \\n ')\n",
    "    \n",
    "# Set reference value\n",
    "ref_value=int(input('Please check reference value in the metadata files and set below!  \\n'))\n",
    "\n",
    "# Calibration value\n",
    "cal_value=int(input('If available, please check calibration value of hydrophons in the metadata files and set below! \\n what does the fullscale voltage correspond to in Pa? \\n '))\n",
    "\n",
    "# Set researcher\n",
    "researcher= input('Please indicate the researcher who performs the crop by initials [SG, JR] \\n ')"
   ]
  },
  {
   "cell_type": "markdown",
   "metadata": {},
   "source": [
    "### Read in wav file"
   ]
  },
  {
   "cell_type": "code",
   "execution_count": 5,
   "metadata": {},
   "outputs": [
    {
     "data": {
      "text/plain": [
       "['2017-02-04--10-28-15--00-00-03--C.wav',\n",
       " '2017-02-04--10-28-45--00-00-03--C.wav',\n",
       " '2017-02-04--10-29-32--00-00-04--C.wav',\n",
       " '2017-02-04--10-30-18--00-00-04--C.wav',\n",
       " '2017-02-04--10-28-22--00-00-04--C.wav',\n",
       " '2017-02-04--10-28-08--00-00-04--C.wav',\n",
       " '2017-02-04--10-28-03--00-00-01--C.wav',\n",
       " '2017-02-04--10-29-58--00-00-03--C.wav',\n",
       " '2017-02-04--10-28-36--00-00-03--C.wav',\n",
       " '2017-02-04--10-29-52--00-00-03--C.wav']"
      ]
     },
     "execution_count": 5,
     "metadata": {},
     "output_type": "execute_result"
    }
   ],
   "source": [
    "directory='/Users/saroltagabulya/git/Orca/call_segments/'\n",
    "\n",
    "folder_name = directory + file[0][10:-4]\n",
    "os.chdir(folder_name)\n",
    "wavs=glob.glob('*.wav')\n",
    "wavs"
   ]
  },
  {
   "cell_type": "markdown",
   "metadata": {},
   "source": [
    "### Choose specific wav"
   ]
  },
  {
   "cell_type": "code",
   "execution_count": 6,
   "metadata": {},
   "outputs": [
    {
     "data": {
      "text/plain": [
       "'2017-02-04--10-29-52--00-00-03--C.wav'"
      ]
     },
     "execution_count": 6,
     "metadata": {},
     "output_type": "execute_result"
    }
   ],
   "source": [
    "the_wav=wavs[-1]\n",
    "\n",
    "the_wav"
   ]
  },
  {
   "cell_type": "markdown",
   "metadata": {},
   "source": [
    "### Calculate spectogram"
   ]
  },
  {
   "cell_type": "code",
   "execution_count": 7,
   "metadata": {},
   "outputs": [],
   "source": [
    "def open_wav(file, sample_rate):\n",
    "    y, sr = librosa.load(file, sr=sample_rate, mono=False)\n",
    "    return y, sr\n",
    "\n",
    "def wav_to_spect_params(y, sr, file, nfft, hop_length, win_length, plot=True): #, call_wav\n",
    "    \n",
    "    yml_file=file[:-3] + 'yml'\n",
    "\n",
    "\n",
    "    with open(yml_file) as f:\n",
    "        # The FullLoader parameter handles the conversion from YAML\n",
    "        # scalar values to Python the dictionary format\n",
    "        metadata = yaml.load(f, Loader=yaml.FullLoader)\n",
    "\n",
    "    ref=metadata['reference_value']\n",
    "    raw_unit=metadata['raw_signal_unit']\n",
    "    start_utc=metadata['start_utc']\n",
    "    duration_seconds=metadata['duration_seconds']\n",
    "\n",
    "    \n",
    "    if len(y)>0:\n",
    "        # Convert to spectogram \n",
    "        \n",
    "        Y = librosa.stft(y, n_fft=nfft, hop_length=hop_length, win_length=win_length) \n",
    "        Ydb = librosa.amplitude_to_db(abs(Y), ref=1)\n",
    "        \n",
    "\n",
    "        return Ydb\n",
    "    \n",
    "    else: \n",
    "        return 'Error with wav'"
   ]
  },
  {
   "cell_type": "code",
   "execution_count": 25,
   "metadata": {},
   "outputs": [
    {
     "name": "stdout",
     "output_type": "stream",
     "text": [
      "12 12 12\n"
     ]
    }
   ],
   "source": [
    "nffts=[512, 2048, 8192, 2048, 2048, 2048, 2048, 2048, 2048, 2048, 2048, 2048]\n",
    "\n",
    "hop_l=[32, 32, 32, 1024, 512, 256, 32, 32, 32, 32, 32, 32]\n",
    "\n",
    "win_l=[512, 2048, 8192,  2048, 2048, 2048, 256, 300, 350, 400, 450, 512]\n",
    "\n",
    "print(len(nffts), len(hop_l), len(win_l))"
   ]
  },
  {
   "cell_type": "markdown",
   "metadata": {},
   "source": [
    "### Prepare figure size, read in file"
   ]
  },
  {
   "cell_type": "code",
   "execution_count": 44,
   "metadata": {},
   "outputs": [
    {
     "data": {
      "application/vnd.jupyter.widget-view+json": {
       "model_id": "324f3d06300644039c9fe1eb0cfc528a",
       "version_major": 2,
       "version_minor": 0
      },
      "text/plain": [
       "Canvas(toolbar=Toolbar(toolitems=[('Home', 'Reset original view', 'home', 'home'), ('Back', 'Back to previous …"
      ]
     },
     "metadata": {},
     "output_type": "display_data"
    },
    {
     "name": "stdout",
     "output_type": "stream",
     "text": [
      "4 3\n",
      "0\n",
      "0 0\n"
     ]
    },
    {
     "name": "stderr",
     "output_type": "stream",
     "text": [
      "<ipython-input-44-3e5484e0a59a>:59: UserWarning: FixedFormatter should only be used together with FixedLocator\n",
      "  current_axis.set_yticklabels(new_yticks)\n"
     ]
    },
    {
     "name": "stdout",
     "output_type": "stream",
     "text": [
      "1\n",
      "0 1\n",
      "2\n",
      "0 2\n",
      "3\n",
      "1 0\n",
      "4\n",
      "1 1\n",
      "5\n",
      "1 2\n",
      "6\n",
      "2 0\n",
      "7\n",
      "2 1\n",
      "8\n",
      "2 2\n",
      "9\n",
      "3 0\n",
      "10\n",
      "3 1\n",
      "11\n",
      "3 2\n"
     ]
    }
   ],
   "source": [
    "#Prepare plot \n",
    "plt.close()\n",
    "cols=3\n",
    "rows=math.ceil(len(nffts)/3)\n",
    "figure, axes = plt.subplots(nrows=rows, ncols=cols, squeeze=False)\n",
    "\n",
    "print(rows, cols)\n",
    "\n",
    "#Plot\n",
    "y, sr=open_wav(the_wav, sample_rate)\n",
    "for p in range(len(nffts)):\n",
    "    print(p)\n",
    "    \n",
    "    #Define plot position in terms of row and column position\n",
    "    r=math.floor(p/3)\n",
    "    c=p%3\n",
    "    \n",
    "    print(r, c)\n",
    "    \n",
    "    current_axis=axes[r, c]\n",
    "\n",
    "    Ydb=wav_to_spect_params(y, ref_value, the_wav, nffts[p], hop_l[p], win_l[p], plot=False)\n",
    "\n",
    "    img = librosa.display.specshow(Ydb, cmap='seismic', sr=sample_rate, x_axis='time', y_axis='fft', ax=current_axis, hop_length=hop_l[p])\n",
    "    \n",
    "    if p%3==2: \n",
    "        cb=plt.colorbar(img, ax=current_axis) \n",
    "        cb.set_label('Power\\n[dB re to {} {}^2]'.format(ref_value, raw_unit), rotation=270, labelpad=+15, fontsize=8)\n",
    "    \n",
    "    #current_axis.set_xlabel('Time [s]')\n",
    "    \n",
    "    #Set axis-limits - specific for where in the plot you want to zoom in!\n",
    "    y_lim=current_axis.set_ylim()[1]\n",
    "    x_lim=current_axis.set_xlim()[1]\n",
    "    current_axis.set_ylim((16000/50000)*y_lim, (20000/50000)*y_lim)\n",
    "    current_axis.set_xlim((1.450/3)*x_lim, (1.650/3)*x_lim)\n",
    "    \n",
    "    # Set y-axis label\n",
    "    #if p%3==0:\n",
    "        #current_axis.set_ylabel('Frequency [kHz]', fontsize=9)\n",
    "    #elif p%3==1 or p%3==2 : \n",
    "    \n",
    "    #current_axis.set_xlabel('Time [s]')\n",
    "    \n",
    "    #Set automatic labels to invisible\n",
    "    current_axis.yaxis.label.set_visible(False)\n",
    "    current_axis.xaxis.label.set_visible(False)\n",
    "    \n",
    "    # Add white legend with parameters\n",
    "    current_axis.text(0, 0.7, '\\n fs: {}kHz\\n nfft: {}\\n hop_len:{}\\n win_len: {}'.format(sample_rate/1000,nffts[p], hop_l[p], win_l[p]), fontsize = 5,  color = 'w', transform=current_axis.transAxes)\n",
    "    \n",
    "    current_axis.tick_params(axis='both', which='major', labelsize=5)\n",
    "    \n",
    "    \n",
    "    #convert y-axis ticklabels to kHz!\n",
    "    locs=current_axis.get_yticks()\n",
    "    y_ticks = []\n",
    "    new_yticks=[d/1000 for d in locs]\n",
    "    current_axis.set_yticklabels(new_yticks)\n",
    "    \n",
    "    \n",
    "    #Set overall labels\n",
    "    figure.text(0.5, 0.04, 'Time [s]', ha='center')\n",
    "    figure.text(0.04, 0.5,'Frequency [kHz]', ha='center', rotation=90)\n",
    "    figure.text(0.96, 0.5,'Power\\n[dB re to {} {}^2]'.format(ref_value, raw_unit), ha='center', rotation=270)\n",
    "\n",
    "   \n",
    "    \n",
    "    plt.show()"
   ]
  },
  {
   "cell_type": "code",
   "execution_count": null,
   "metadata": {},
   "outputs": [],
   "source": []
  }
 ],
 "metadata": {
  "kernelspec": {
   "display_name": "Python 3",
   "language": "python",
   "name": "python3"
  },
  "language_info": {
   "codemirror_mode": {
    "name": "ipython",
    "version": 3
   },
   "file_extension": ".py",
   "mimetype": "text/x-python",
   "name": "python",
   "nbconvert_exporter": "python",
   "pygments_lexer": "ipython3",
   "version": "3.8.2"
  }
 },
 "nbformat": 4,
 "nbformat_minor": 4
}
