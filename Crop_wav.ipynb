{
 "cells": [
  {
   "cell_type": "markdown",
   "metadata": {},
   "source": [
    "### Import packages"
   ]
  },
  {
   "cell_type": "code",
   "execution_count": 4,
   "metadata": {},
   "outputs": [],
   "source": [
    "import os\n",
    "import glob\n",
    "import numpy  as np\n",
    "import pandas as pd\n",
    "import librosa\n",
    "import librosa.display\n",
    "import matplotlib.pyplot as plt\n",
    "import ipywidgets as widgets\n",
    "import soundfile as sf"
   ]
  },
  {
   "cell_type": "markdown",
   "metadata": {},
   "source": [
    "### Choose file to inspect¶"
   ]
  },
  {
   "cell_type": "code",
   "execution_count": 5,
   "metadata": {},
   "outputs": [
    {
     "data": {
      "application/vnd.jupyter.widget-view+json": {
       "model_id": "ff5849be57b44d1e8601c899cd661cc7",
       "version_major": 2,
       "version_minor": 0
      },
      "text/plain": [
       "Dropdown(description='CSV files:', options=('time_stamps.csv', 'time_stamps_2017-02-04--10-14-06--00-16-35--BC…"
      ]
     },
     "metadata": {},
     "output_type": "display_data"
    },
    {
     "name": "stdout",
     "output_type": "stream",
     "text": [
      "time_stamps_2017-02-04--10-14-06--00-16-35--BC.csv\n"
     ]
    }
   ],
   "source": [
    "directory='/Users/saroltagabulya/git/Orca/'\n",
    "wavs=glob.glob('*.csv')\n",
    "file=[]\n",
    "\n",
    "dropdown=widgets.Dropdown(\n",
    "    options=wavs,\n",
    "    description='CSV files:',\n",
    "    disabled=False,\n",
    ")\n",
    "\n",
    "def dropdown_eventhandler(change):\n",
    "    file.clear()\n",
    "    file.append(change.new)\n",
    "    print(change.new)\n",
    "dropdown.observe(dropdown_eventhandler, names='value')\n",
    "display(dropdown)"
   ]
  },
  {
   "cell_type": "markdown",
   "metadata": {},
   "source": [
    "### Read csv file as pandas"
   ]
  },
  {
   "cell_type": "code",
   "execution_count": 17,
   "metadata": {},
   "outputs": [],
   "source": [
    "filename = directory + file[0]\n",
    "time_stamps=pd.read_csv(filename, index_col=0)\n",
    "\n",
    "# Also extract recording name for later use\n",
    "recording_name=file[0][12:-4]"
   ]
  },
  {
   "cell_type": "markdown",
   "metadata": {},
   "source": [
    "### Read in wav"
   ]
  },
  {
   "cell_type": "code",
   "execution_count": 18,
   "metadata": {},
   "outputs": [],
   "source": [
    "y, sr = librosa.load(recording_name + '.wav')"
   ]
  },
  {
   "cell_type": "markdown",
   "metadata": {},
   "source": [
    "### Onsets & offsets in csv are in seconds => Convert to samples by multiplying them with the fs\n",
    "\n",
    "second * fs = samples\n"
   ]
  },
  {
   "cell_type": "code",
   "execution_count": 20,
   "metadata": {},
   "outputs": [],
   "source": [
    "time_stamps['onset_samples']=time_stamps.onset.apply(lambda x: int(round(x*sr)))\n",
    "time_stamps['offset_samples']=time_stamps.offset.apply(lambda x: int(round(x*sr)))"
   ]
  },
  {
   "cell_type": "markdown",
   "metadata": {},
   "source": [
    "### Function for cropping wav and saving"
   ]
  },
  {
   "cell_type": "code",
   "execution_count": 32,
   "metadata": {},
   "outputs": [
    {
     "name": "stdout",
     "output_type": "stream",
     "text": [
      "[Errno 17] File exists: './call_segments/2017-02-04--10-14-06--00-16-35--BC'\n"
     ]
    }
   ],
   "source": [
    "try:\n",
    "    os.mkdir('./call_segments/' + recording_name)\n",
    "    \n",
    "except Exception as e:\n",
    "    print(e)"
   ]
  },
  {
   "cell_type": "code",
   "execution_count": 33,
   "metadata": {},
   "outputs": [],
   "source": [
    "def crop_call(row, y, sr, recording_name):\n",
    "    call_filename= recording_name + '_' + str(row.onset_samples) + '_' + str(row.offset_samples) + '.wav'\n",
    "    call=y[row.onset_samples: row.offset_samples]\n",
    "    call_path='./call_segments/' + recording_name +'/' +  call_filename\n",
    "    sf.write(call_path, call, sr) \n",
    "    return call_path"
   ]
  },
  {
   "cell_type": "code",
   "execution_count": 34,
   "metadata": {},
   "outputs": [],
   "source": [
    "time_stamps['call_wav']=time_stamps.apply(lambda x: crop_call(x, y, sr, recording_name), axis=1)"
   ]
  },
  {
   "cell_type": "markdown",
   "metadata": {},
   "source": [
    "### Function for converting wavs into spectrograms"
   ]
  },
  {
   "cell_type": "code",
   "execution_count": 35,
   "metadata": {},
   "outputs": [],
   "source": [
    "def open_wav(row):\n",
    "    y, sr = librosa.load(row.call_wav)\n",
    "    return y, sr, row.call_wav"
   ]
  },
  {
   "cell_type": "code",
   "execution_count": 36,
   "metadata": {},
   "outputs": [],
   "source": [
    "def wav_to_spect(y, sr, call_wav):\n",
    "    \n",
    "    if len(y)>0:\n",
    "        # Convert to spectogram \n",
    "        Y = librosa.stft(y)\n",
    "        Ydb = librosa.amplitude_to_db(abs(Y))\n",
    "\n",
    "        plt.imshow(Ydb, aspect=0.3, origin='lower')\n",
    "        plt.xlabel('time(samples)')\n",
    "        plt.ylabel('Hz')\n",
    "\n",
    "        # Save spectograms\n",
    "        plt.savefig(call_wav[:-3] + 'png')\n",
    "        plt.close()\n",
    "    \n",
    "        return Ydb\n",
    "    \n",
    "    else: \n",
    "        return 'Error with wav'"
   ]
  },
  {
   "cell_type": "code",
   "execution_count": 37,
   "metadata": {},
   "outputs": [],
   "source": [
    "time_stamps['spect']=time_stamps.apply(lambda x: wav_to_spect(*open_wav(x)), axis=1) "
   ]
  },
  {
   "cell_type": "markdown",
   "metadata": {},
   "source": [
    "### Save csv under new name"
   ]
  },
  {
   "cell_type": "code",
   "execution_count": 38,
   "metadata": {},
   "outputs": [],
   "source": [
    "time_stamps.to_csv('call_data_' + recording_name + '.csv')"
   ]
  }
 ],
 "metadata": {
  "kernelspec": {
   "display_name": "Python 3",
   "language": "python",
   "name": "python3"
  },
  "language_info": {
   "codemirror_mode": {
    "name": "ipython",
    "version": 3
   },
   "file_extension": ".py",
   "mimetype": "text/x-python",
   "name": "python",
   "nbconvert_exporter": "python",
   "pygments_lexer": "ipython3",
   "version": "3.8.2"
  }
 },
 "nbformat": 4,
 "nbformat_minor": 4
}
