{
 "cells": [
  {
   "cell_type": "markdown",
   "metadata": {},
   "source": [
    "### Import packages"
   ]
  },
  {
   "cell_type": "code",
   "execution_count": 76,
   "metadata": {},
   "outputs": [],
   "source": [
    "import os\n",
    "import glob\n",
    "import numpy  as np\n",
    "import pandas as pd\n",
    "import librosa\n",
    "import librosa.display\n",
    "import matplotlib.pyplot as plt\n",
    "import ipywidgets as widgets\n",
    "import soundfile as sf\n",
    "import yaml\n",
    "import math\n",
    "import datetime\n",
    "import time"
   ]
  },
  {
   "cell_type": "markdown",
   "metadata": {},
   "source": [
    "### Choose file to inspect"
   ]
  },
  {
   "cell_type": "code",
   "execution_count": 77,
   "metadata": {},
   "outputs": [
    {
     "data": {
      "application/vnd.jupyter.widget-view+json": {
       "model_id": "687630eef15b408daf209270af4bc7de",
       "version_major": 2,
       "version_minor": 0
      },
      "text/plain": [
       "Dropdown(description='CSV files:', options=('timestamp_csv/time_stamps_2020-12-15--23-21-29--00-40-00--A.csv',…"
      ]
     },
     "metadata": {},
     "output_type": "display_data"
    },
    {
     "name": "stdout",
     "output_type": "stream",
     "text": [
      "timestamp_csv/time_stamps_2017-02-04--10-14-06--00-16-35--BC_2.csv\n"
     ]
    }
   ],
   "source": [
    "directory='/Users/saroltagabulya/git/Orca/'\n",
    "wavs=glob.glob('timestamp_csv/*.csv')\n",
    "file=[]\n",
    "\n",
    "dropdown=widgets.Dropdown(\n",
    "    options=wavs,\n",
    "    description='CSV files:',\n",
    "    disabled=False,\n",
    ")\n",
    "\n",
    "def dropdown_eventhandler(change):\n",
    "    file.clear()\n",
    "    file.append(change.new)\n",
    "    print(change.new)\n",
    "dropdown.observe(dropdown_eventhandler, names='value')\n",
    "display(dropdown)"
   ]
  },
  {
   "cell_type": "markdown",
   "metadata": {},
   "source": [
    "### Read csv file as pandas"
   ]
  },
  {
   "cell_type": "code",
   "execution_count": 78,
   "metadata": {},
   "outputs": [],
   "source": [
    "filename = directory + file[0]\n",
    "time_stamps=pd.read_csv(filename, index_col=0)\n",
    "\n",
    "# Also extract recording name for later use\n",
    "recording_name=file[0][26:-4]"
   ]
  },
  {
   "cell_type": "code",
   "execution_count": 79,
   "metadata": {},
   "outputs": [
    {
     "data": {
      "text/plain": [
       "'2017-02-04--10-14-06--00-16-35--BC_2'"
      ]
     },
     "execution_count": 79,
     "metadata": {},
     "output_type": "execute_result"
    }
   ],
   "source": [
    "recording_name"
   ]
  },
  {
   "cell_type": "markdown",
   "metadata": {},
   "source": [
    "### Read metadata"
   ]
  },
  {
   "cell_type": "code",
   "execution_count": 80,
   "metadata": {},
   "outputs": [
    {
     "name": "stdout",
     "output_type": "stream",
     "text": [
      "Please check sampling rate manually in the metadata file and set below in Hz! \n",
      "100000\n",
      "Please check the raw unit of the signal and enter below \n",
      " V\n",
      "Please check reference value in the metadata files and set below!  \n",
      "1\n",
      "If available, please check calibration value of hydrophons in the metadata files and set below! \n",
      " what does the fullscale voltage correspond to in Pa? \n",
      " 1\n",
      "Please indicate the researcher who performs the crop by initials [SG, JR] \n",
      " SG\n"
     ]
    }
   ],
   "source": [
    "# Set sample rate\n",
    "try:\n",
    "    wave_file=wave.open(file[0], \"rb\")\n",
    "    sample_rate = wave_file.getframerate()\n",
    "except:\n",
    "    sample_rate=int(input('Please check sampling rate manually in the metadata file and set below in Hz! \\n'))\n",
    "    \n",
    "# Set raw unit of signal\n",
    "raw_signal_unit=input('Please check the raw unit of the signal and enter below \\n ')\n",
    "    \n",
    "# Set reference value\n",
    "ref_value=int(input('Please check reference value in the metadata files and set below!  \\n'))\n",
    "\n",
    "# Calibration value\n",
    "cal_value=int(input('If available, please check calibration value of hydrophons in the metadata files and set below! \\n what does the fullscale voltage correspond to in Pa? \\n '))\n",
    "\n",
    "\n",
    "# Set researcher\n",
    "researcher= input('Please indicate the researcher who performs the crop by initials [SG, JR] \\n ')"
   ]
  },
  {
   "cell_type": "markdown",
   "metadata": {},
   "source": [
    "### Read in wav"
   ]
  },
  {
   "cell_type": "code",
   "execution_count": 81,
   "metadata": {},
   "outputs": [],
   "source": [
    "recording_name=recording_name[:-2]\n",
    "\n",
    "y, sr=librosa.load('wav_files/' +recording_name + '.wav', sr=sample_rate)"
   ]
  },
  {
   "cell_type": "markdown",
   "metadata": {},
   "source": [
    "### Start time in seconds since epoch"
   ]
  },
  {
   "cell_type": "code",
   "execution_count": 82,
   "metadata": {},
   "outputs": [],
   "source": [
    "start_datetime_str=recording_name[:20]\n",
    "start_datetime_abs=datetime.datetime.strptime(start_datetime_str, '%Y-%m-%d--%H-%M-%S').timestamp()"
   ]
  },
  {
   "cell_type": "markdown",
   "metadata": {},
   "source": [
    "### Onsets & offsets in csv are in seconds => Convert to samples by multiplying them with the fs\n",
    "\n",
    "second * fs = samples\n"
   ]
  },
  {
   "cell_type": "code",
   "execution_count": 83,
   "metadata": {},
   "outputs": [],
   "source": [
    "time_stamps.onset=time_stamps.onset.apply(lambda x: math.floor(x)) # Round down\n",
    "time_stamps.offset=time_stamps.offset.apply(lambda x: math.ceil(x)) # Round up \n",
    "\n",
    "time_stamps['onset_samples']=time_stamps.onset.apply(lambda x: x*sr) \n",
    "time_stamps['offset_samples']=time_stamps.offset.apply(lambda x: x*sr) "
   ]
  },
  {
   "cell_type": "markdown",
   "metadata": {},
   "source": [
    "### Function for cropping wav and saving"
   ]
  },
  {
   "cell_type": "code",
   "execution_count": 84,
   "metadata": {},
   "outputs": [
    {
     "name": "stdout",
     "output_type": "stream",
     "text": [
      "[Errno 17] File exists: './call_segments/2017-02-04--10-14-06--00-16-35--BC'\n"
     ]
    }
   ],
   "source": [
    "try:\n",
    "    os.mkdir('./call_segments/' + recording_name)\n",
    "    \n",
    "except Exception as e:\n",
    "    print(e)"
   ]
  },
  {
   "cell_type": "code",
   "execution_count": 156,
   "metadata": {},
   "outputs": [],
   "source": [
    "def segment_onset_utc(row, start_datetime_abs):\n",
    "    # segment_onset_utc\n",
    "    onset_segment_utc=start_datetime_abs+row.onset\n",
    "    onset_utc_str=datetime.datetime.fromtimestamp(onset_segment_utc).strftime(\"%y-%m-%d--%H-%M-%S\")\n",
    "    \n",
    "    return onset_utc_str\n",
    "    \n",
    "def segment_duration(row):\n",
    "    #duration_seconds\n",
    "    duration_segment=row.offset-row.onset\n",
    "    duration_utc_str=time.strftime('--%H-%M-%S', time.gmtime(duration_segment))\n",
    "    \n",
    "    return duration_utc_str\n",
    "    \n",
    "        \n",
    "def recording_file_name(row, recording_name):\n",
    "    \n",
    "    call_filename= row.onset_utc_str + row.duration_utc_str\n",
    "    \n",
    "    #Extract and add if recorder info exists\n",
    "    try:\n",
    "        recorder=recording_name[30:]\n",
    "        call_filename=call_filename+recorder + '.wav'\n",
    "    except:\n",
    "        print('recorder not specified')\n",
    "        call_filename=call_filename  + '.wav'\n",
    "        \n",
    "    return call_filename\n",
    "\n",
    "\n",
    "def crop_call(row, y, sr, recording_name, start_datetime_abs):\n",
    "    call=y[row.onset_samples: row.offset_samples]  # Interval closed at the beginning and open at the end\n",
    "    call_path='./call_segments/' + recording_name +'/' +  row.recording_file_name \n",
    "    sf.write(call_path, call, sr) \n",
    "    \n",
    "    return call_path"
   ]
  },
  {
   "cell_type": "markdown",
   "metadata": {},
   "source": [
    "### Apply functions"
   ]
  },
  {
   "cell_type": "code",
   "execution_count": 157,
   "metadata": {},
   "outputs": [],
   "source": [
    "time_stamps['onset_utc_str']=time_stamps.apply(lambda x: segment_onset_utc(x, start_datetime_abs), axis=1)\n",
    "time_stamps['duration_utc_str']=time_stamps.apply(lambda x: segment_duration(x), axis=1)\n",
    "time_stamps['recording_file_name']=time_stamps.apply(lambda x: recording_file_name(x, recording_name), axis=1)\n",
    "time_stamps['call_wav_path']= time_stamps.apply(lambda x: crop_call(x, y, sr, recording_name, start_datetime_abs), axis=1)"
   ]
  },
  {
   "cell_type": "markdown",
   "metadata": {},
   "source": [
    "### Prepare a metadata dataframe"
   ]
  },
  {
   "cell_type": "code",
   "execution_count": 158,
   "metadata": {},
   "outputs": [],
   "source": [
    "def prep_metadata(time_stamps, sample_rate, ref_value, cal_value, researcher, raw_signal_unit, recording_name):\n",
    "    meta_df=pd.DataFrame()\n",
    "    \n",
    "    meta_df['segment_file']=time_stamps.apply(lambda x: x.recording_file_name, axis=1)\n",
    "    meta_df['wav_origin']=pd.Series([recording_name]*len(time_stamps))\n",
    "    \n",
    "    meta_df['sample_rate']=pd.Series([sample_rate]*len(time_stamps))\n",
    "    meta_df['raw_signal_unit']=pd.Series([raw_signal_unit]*len(time_stamps))\n",
    "    meta_df['reference_value']=pd.Series([ref_value]*len(time_stamps))\n",
    "    meta_df['calibration_value']=pd.Series([cal_value]*len(time_stamps))\n",
    "    meta_df['researcher']=pd.Series(['SG']*len(time_stamps))\n",
    "    \n",
    "    meta_df['onset_samples']=time_stamps.onset_samples\n",
    "    meta_df['offset_samples']=time_stamps.offset_samples\n",
    "    meta_df['number_of_samples']=time_stamps.offset_samples-time_stamps.onset_samples\n",
    "    \n",
    "    meta_df['onset_seconds']=time_stamps.onset\n",
    "    meta_df['offset_seconds']=time_stamps.offset\n",
    "    meta_df['duration_seconds']=meta_df.number_of_samples/meta_df.sample_rate\n",
    "    \n",
    "    meta_df['onset_absolute_utc']=time_stamps.onset_utc_str\n",
    "    \n",
    "    return meta_df"
   ]
  },
  {
   "cell_type": "code",
   "execution_count": 159,
   "metadata": {},
   "outputs": [],
   "source": [
    "researcher='SG'\n",
    "meta_df=prep_metadata(time_stamps, sample_rate, ref_value, cal_value, researcher, raw_signal_unit, recording_name)"
   ]
  },
  {
   "cell_type": "code",
   "execution_count": 160,
   "metadata": {},
   "outputs": [
    {
     "data": {
      "text/html": [
       "<div>\n",
       "<style scoped>\n",
       "    .dataframe tbody tr th:only-of-type {\n",
       "        vertical-align: middle;\n",
       "    }\n",
       "\n",
       "    .dataframe tbody tr th {\n",
       "        vertical-align: top;\n",
       "    }\n",
       "\n",
       "    .dataframe thead th {\n",
       "        text-align: right;\n",
       "    }\n",
       "</style>\n",
       "<table border=\"1\" class=\"dataframe\">\n",
       "  <thead>\n",
       "    <tr style=\"text-align: right;\">\n",
       "      <th></th>\n",
       "      <th>segment_file</th>\n",
       "      <th>wav_origin</th>\n",
       "      <th>sample_rate</th>\n",
       "      <th>raw_signal_unit</th>\n",
       "      <th>reference_value</th>\n",
       "      <th>calibration_value</th>\n",
       "      <th>researcher</th>\n",
       "      <th>onset_samples</th>\n",
       "      <th>offset_samples</th>\n",
       "      <th>number_of_samples</th>\n",
       "      <th>onset_seconds</th>\n",
       "      <th>offset_seconds</th>\n",
       "      <th>duration_seconds</th>\n",
       "      <th>onset_absolute_utc</th>\n",
       "    </tr>\n",
       "  </thead>\n",
       "  <tbody>\n",
       "    <tr>\n",
       "      <th>0</th>\n",
       "      <td>17-02-04--10-28-08--00-00-03--BC.wav</td>\n",
       "      <td>2017-02-04--10-14-06--00-16-35--BC</td>\n",
       "      <td>100000</td>\n",
       "      <td>V</td>\n",
       "      <td>1</td>\n",
       "      <td>1</td>\n",
       "      <td>SG</td>\n",
       "      <td>84200000</td>\n",
       "      <td>84500000</td>\n",
       "      <td>300000</td>\n",
       "      <td>842</td>\n",
       "      <td>845</td>\n",
       "      <td>3.0</td>\n",
       "      <td>17-02-04--10-28-08</td>\n",
       "    </tr>\n",
       "    <tr>\n",
       "      <th>1</th>\n",
       "      <td>17-02-04--10-28-15--00-00-03--BC.wav</td>\n",
       "      <td>2017-02-04--10-14-06--00-16-35--BC</td>\n",
       "      <td>100000</td>\n",
       "      <td>V</td>\n",
       "      <td>1</td>\n",
       "      <td>1</td>\n",
       "      <td>SG</td>\n",
       "      <td>84900000</td>\n",
       "      <td>85200000</td>\n",
       "      <td>300000</td>\n",
       "      <td>849</td>\n",
       "      <td>852</td>\n",
       "      <td>3.0</td>\n",
       "      <td>17-02-04--10-28-15</td>\n",
       "    </tr>\n",
       "    <tr>\n",
       "      <th>2</th>\n",
       "      <td>17-02-04--10-28-22--00-00-03--BC.wav</td>\n",
       "      <td>2017-02-04--10-14-06--00-16-35--BC</td>\n",
       "      <td>100000</td>\n",
       "      <td>V</td>\n",
       "      <td>1</td>\n",
       "      <td>1</td>\n",
       "      <td>SG</td>\n",
       "      <td>85600000</td>\n",
       "      <td>85900000</td>\n",
       "      <td>300000</td>\n",
       "      <td>856</td>\n",
       "      <td>859</td>\n",
       "      <td>3.0</td>\n",
       "      <td>17-02-04--10-28-22</td>\n",
       "    </tr>\n",
       "    <tr>\n",
       "      <th>3</th>\n",
       "      <td>17-02-04--10-28-36--00-00-03--BC.wav</td>\n",
       "      <td>2017-02-04--10-14-06--00-16-35--BC</td>\n",
       "      <td>100000</td>\n",
       "      <td>V</td>\n",
       "      <td>1</td>\n",
       "      <td>1</td>\n",
       "      <td>SG</td>\n",
       "      <td>87000000</td>\n",
       "      <td>87300000</td>\n",
       "      <td>300000</td>\n",
       "      <td>870</td>\n",
       "      <td>873</td>\n",
       "      <td>3.0</td>\n",
       "      <td>17-02-04--10-28-36</td>\n",
       "    </tr>\n",
       "    <tr>\n",
       "      <th>4</th>\n",
       "      <td>17-02-04--10-28-45--00-00-03--BC.wav</td>\n",
       "      <td>2017-02-04--10-14-06--00-16-35--BC</td>\n",
       "      <td>100000</td>\n",
       "      <td>V</td>\n",
       "      <td>1</td>\n",
       "      <td>1</td>\n",
       "      <td>SG</td>\n",
       "      <td>87900000</td>\n",
       "      <td>88200000</td>\n",
       "      <td>300000</td>\n",
       "      <td>879</td>\n",
       "      <td>882</td>\n",
       "      <td>3.0</td>\n",
       "      <td>17-02-04--10-28-45</td>\n",
       "    </tr>\n",
       "    <tr>\n",
       "      <th>5</th>\n",
       "      <td>17-02-04--10-29-32--00-00-04--BC.wav</td>\n",
       "      <td>2017-02-04--10-14-06--00-16-35--BC</td>\n",
       "      <td>100000</td>\n",
       "      <td>V</td>\n",
       "      <td>1</td>\n",
       "      <td>1</td>\n",
       "      <td>SG</td>\n",
       "      <td>92600000</td>\n",
       "      <td>93000000</td>\n",
       "      <td>400000</td>\n",
       "      <td>926</td>\n",
       "      <td>930</td>\n",
       "      <td>4.0</td>\n",
       "      <td>17-02-04--10-29-32</td>\n",
       "    </tr>\n",
       "    <tr>\n",
       "      <th>6</th>\n",
       "      <td>17-02-04--10-29-58--00-00-04--BC.wav</td>\n",
       "      <td>2017-02-04--10-14-06--00-16-35--BC</td>\n",
       "      <td>100000</td>\n",
       "      <td>V</td>\n",
       "      <td>1</td>\n",
       "      <td>1</td>\n",
       "      <td>SG</td>\n",
       "      <td>95200000</td>\n",
       "      <td>95600000</td>\n",
       "      <td>400000</td>\n",
       "      <td>952</td>\n",
       "      <td>956</td>\n",
       "      <td>4.0</td>\n",
       "      <td>17-02-04--10-29-58</td>\n",
       "    </tr>\n",
       "    <tr>\n",
       "      <th>7</th>\n",
       "      <td>17-02-04--10-30-17--00-00-04--BC.wav</td>\n",
       "      <td>2017-02-04--10-14-06--00-16-35--BC</td>\n",
       "      <td>100000</td>\n",
       "      <td>V</td>\n",
       "      <td>1</td>\n",
       "      <td>1</td>\n",
       "      <td>SG</td>\n",
       "      <td>97100000</td>\n",
       "      <td>97500000</td>\n",
       "      <td>400000</td>\n",
       "      <td>971</td>\n",
       "      <td>975</td>\n",
       "      <td>4.0</td>\n",
       "      <td>17-02-04--10-30-17</td>\n",
       "    </tr>\n",
       "  </tbody>\n",
       "</table>\n",
       "</div>"
      ],
      "text/plain": [
       "                           segment_file                          wav_origin  \\\n",
       "0  17-02-04--10-28-08--00-00-03--BC.wav  2017-02-04--10-14-06--00-16-35--BC   \n",
       "1  17-02-04--10-28-15--00-00-03--BC.wav  2017-02-04--10-14-06--00-16-35--BC   \n",
       "2  17-02-04--10-28-22--00-00-03--BC.wav  2017-02-04--10-14-06--00-16-35--BC   \n",
       "3  17-02-04--10-28-36--00-00-03--BC.wav  2017-02-04--10-14-06--00-16-35--BC   \n",
       "4  17-02-04--10-28-45--00-00-03--BC.wav  2017-02-04--10-14-06--00-16-35--BC   \n",
       "5  17-02-04--10-29-32--00-00-04--BC.wav  2017-02-04--10-14-06--00-16-35--BC   \n",
       "6  17-02-04--10-29-58--00-00-04--BC.wav  2017-02-04--10-14-06--00-16-35--BC   \n",
       "7  17-02-04--10-30-17--00-00-04--BC.wav  2017-02-04--10-14-06--00-16-35--BC   \n",
       "\n",
       "   sample_rate raw_signal_unit  reference_value  calibration_value researcher  \\\n",
       "0       100000               V                1                  1         SG   \n",
       "1       100000               V                1                  1         SG   \n",
       "2       100000               V                1                  1         SG   \n",
       "3       100000               V                1                  1         SG   \n",
       "4       100000               V                1                  1         SG   \n",
       "5       100000               V                1                  1         SG   \n",
       "6       100000               V                1                  1         SG   \n",
       "7       100000               V                1                  1         SG   \n",
       "\n",
       "   onset_samples  offset_samples  number_of_samples  onset_seconds  \\\n",
       "0       84200000        84500000             300000            842   \n",
       "1       84900000        85200000             300000            849   \n",
       "2       85600000        85900000             300000            856   \n",
       "3       87000000        87300000             300000            870   \n",
       "4       87900000        88200000             300000            879   \n",
       "5       92600000        93000000             400000            926   \n",
       "6       95200000        95600000             400000            952   \n",
       "7       97100000        97500000             400000            971   \n",
       "\n",
       "   offset_seconds  duration_seconds  onset_absolute_utc  \n",
       "0             845               3.0  17-02-04--10-28-08  \n",
       "1             852               3.0  17-02-04--10-28-15  \n",
       "2             859               3.0  17-02-04--10-28-22  \n",
       "3             873               3.0  17-02-04--10-28-36  \n",
       "4             882               3.0  17-02-04--10-28-45  \n",
       "5             930               4.0  17-02-04--10-29-32  \n",
       "6             956               4.0  17-02-04--10-29-58  \n",
       "7             975               4.0  17-02-04--10-30-17  "
      ]
     },
     "execution_count": 160,
     "metadata": {},
     "output_type": "execute_result"
    }
   ],
   "source": [
    "meta_df"
   ]
  },
  {
   "cell_type": "code",
   "execution_count": 164,
   "metadata": {},
   "outputs": [
    {
     "data": {
      "text/plain": [
       "'17-02-04--10-28-08--00-00-03--BC.'"
      ]
     },
     "execution_count": 164,
     "metadata": {},
     "output_type": "execute_result"
    }
   ],
   "source": [
    "meta_df.segment_file[0][:-3]"
   ]
  },
  {
   "cell_type": "markdown",
   "metadata": {},
   "source": [
    "### Create metadata files"
   ]
  },
  {
   "cell_type": "code",
   "execution_count": 171,
   "metadata": {},
   "outputs": [],
   "source": [
    "def write_metadata(row, output_dir):\n",
    "    \n",
    "    #Prepare filename\n",
    "    metafilename=row.wav_origin + '/' +row.segment_file[:-3]  + 'yml'\n",
    "    \n",
    "    #Convert row to dictionary\n",
    "    d = {k: (v if type(v).__module__ != 'numpy' else v.item()) for k,v in row.to_dict().items()}\n",
    "    \n",
    "    \n",
    "    with open(output_dir + metafilename, 'w') as outfile:\n",
    "        yaml.dump(d, outfile)"
   ]
  },
  {
   "cell_type": "code",
   "execution_count": 172,
   "metadata": {},
   "outputs": [
    {
     "data": {
      "text/plain": [
       "0    None\n",
       "1    None\n",
       "2    None\n",
       "3    None\n",
       "4    None\n",
       "5    None\n",
       "6    None\n",
       "7    None\n",
       "dtype: object"
      ]
     },
     "execution_count": 172,
     "metadata": {},
     "output_type": "execute_result"
    }
   ],
   "source": [
    "output_dir='./call_segments/' \n",
    "meta_df.apply(lambda x: write_metadata(x, output_dir), axis =1)"
   ]
  },
  {
   "cell_type": "markdown",
   "metadata": {},
   "source": [
    "### Save csv under new name"
   ]
  },
  {
   "cell_type": "code",
   "execution_count": 173,
   "metadata": {},
   "outputs": [],
   "source": [
    "time_stamps.to_csv('call_data/call_data_' + recording_name + '.csv')"
   ]
  },
  {
   "cell_type": "markdown",
   "metadata": {},
   "source": [
    "### Read in metadata"
   ]
  },
  {
   "cell_type": "code",
   "execution_count": null,
   "metadata": {},
   "outputs": [],
   "source": [
    "metafile=''\n",
    "\n",
    "with open(metafile) as file:\n",
    "    # The FullLoader parameter handles the conversion from YAML\n",
    "    # scalar values to Python the dictionary format\n",
    "    metadata = yaml.load(file, Loader=yaml.FullLoader)\n",
    "    \n",
    "print(metadata)"
   ]
  }
 ],
 "metadata": {
  "kernelspec": {
   "display_name": "Python 3",
   "language": "python",
   "name": "python3"
  },
  "language_info": {
   "codemirror_mode": {
    "name": "ipython",
    "version": 3
   },
   "file_extension": ".py",
   "mimetype": "text/x-python",
   "name": "python",
   "nbconvert_exporter": "python",
   "pygments_lexer": "ipython3",
   "version": "3.8.2"
  }
 },
 "nbformat": 4,
 "nbformat_minor": 4
}
