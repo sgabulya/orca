{
 "cells": [
  {
   "cell_type": "markdown",
   "metadata": {},
   "source": [
    "### Import packages"
   ]
  },
  {
   "cell_type": "code",
   "execution_count": 3,
   "metadata": {},
   "outputs": [],
   "source": [
    "import os\n",
    "import glob\n",
    "import numpy  as np\n",
    "import pandas as pd\n",
    "import librosa\n",
    "import librosa.display\n",
    "import matplotlib.pyplot as plt\n",
    "import ipywidgets as widgets\n",
    "import soundfile as sf\n",
    "import yaml\n",
    "import math\n",
    "import datetime\n",
    "import time"
   ]
  },
  {
   "cell_type": "markdown",
   "metadata": {},
   "source": [
    "### Choose file to inspect"
   ]
  },
  {
   "cell_type": "code",
   "execution_count": 4,
   "metadata": {},
   "outputs": [
    {
     "data": {
      "application/vnd.jupyter.widget-view+json": {
       "model_id": "eca2001132ae4c9eb2ed10c48f24cce0",
       "version_major": 2,
       "version_minor": 0
      },
      "text/plain": [
       "Dropdown(description='CSV files:', options=('timestamp_csv/time_stamps_2020-12-15--23-21-29--00-40-00--A.csv',…"
      ]
     },
     "metadata": {},
     "output_type": "display_data"
    },
    {
     "name": "stdout",
     "output_type": "stream",
     "text": [
      "timestamp_csv/time_stamps_2017-02-04--10-25-15--00-05-25--C.csv\n"
     ]
    }
   ],
   "source": [
    "directory='/Users/saroltagabulya/git/Orca/'\n",
    "wavs=glob.glob('timestamp_csv/*.csv')\n",
    "file=[]\n",
    "\n",
    "dropdown=widgets.Dropdown(\n",
    "    options=wavs,\n",
    "    description='CSV files:',\n",
    "    disabled=False,\n",
    ")\n",
    "\n",
    "def dropdown_eventhandler(change):\n",
    "    file.clear()\n",
    "    file.append(change.new)\n",
    "    print(change.new)\n",
    "dropdown.observe(dropdown_eventhandler, names='value')\n",
    "display(dropdown)"
   ]
  },
  {
   "cell_type": "markdown",
   "metadata": {},
   "source": [
    "### Read csv file as pandas"
   ]
  },
  {
   "cell_type": "code",
   "execution_count": 3,
   "metadata": {},
   "outputs": [],
   "source": [
    "filename = directory + file[0]\n",
    "time_stamps=pd.read_csv(filename, index_col=0)\n",
    "\n",
    "# Also extract recording name for later use\n",
    "recording_name=file[0][26:-4]"
   ]
  },
  {
   "cell_type": "code",
   "execution_count": 4,
   "metadata": {},
   "outputs": [
    {
     "name": "stdout",
     "output_type": "stream",
     "text": [
      "Is this the recoridng you want to use? If not enter new recoridng name below\n",
      "2017-02-04--10-25-15--00-05-25--C \n",
      "2017-02-04--10-25-15--00-05-25--C\n"
     ]
    }
   ],
   "source": [
    "recording_name= input('Is this the recoridng you want to use? If not enter new recoridng name below\\n{} \\n'.format(recording_name))"
   ]
  },
  {
   "cell_type": "markdown",
   "metadata": {},
   "source": [
    "### Read metadata"
   ]
  },
  {
   "cell_type": "code",
   "execution_count": 6,
   "metadata": {},
   "outputs": [
    {
     "name": "stdout",
     "output_type": "stream",
     "text": [
      "Please check sampling rate manually in the metadata file and set below in Hz! \n",
      "100000\n",
      "Please check the raw unit of the signal and enter below \n",
      " V\n",
      "Please check reference value in the metadata files and set below!  \n",
      "1\n",
      "If available, please check calibration value of hydrophons in the metadata files and set below! \n",
      " what does the fullscale voltage correspond to in Pa? \n",
      " 1\n",
      "Please indicate the researcher who performs the crop by initials [SG, JR] \n",
      " SG\n"
     ]
    }
   ],
   "source": [
    "# Set sample rate\n",
    "try:\n",
    "    wave_file=wave.open(file[0], \"rb\")\n",
    "    sample_rate = wave_file.getframerate()\n",
    "except:\n",
    "    sample_rate=int(input('Please check sampling rate manually in the metadata file and set below in Hz! \\n'))\n",
    "    \n",
    "# Set raw unit of signal\n",
    "raw_signal_unit=input('Please check the raw unit of the signal and enter below \\n ')\n",
    "    \n",
    "# Set reference value\n",
    "ref_value=int(input('Please check reference value in the metadata files and set below!  \\n'))\n",
    "\n",
    "# Calibration value\n",
    "cal_value=int(input('If available, please check calibration value of hydrophons in the metadata files and set below! \\n what does the fullscale voltage correspond to in Pa? \\n '))\n",
    "\n",
    "\n",
    "# Set researcher\n",
    "researcher= input('Please indicate the researcher who performs the crop by initials [SG, JR] \\n ')"
   ]
  },
  {
   "cell_type": "markdown",
   "metadata": {},
   "source": [
    "### Read in wav - if multichannel select first channel"
   ]
  },
  {
   "cell_type": "code",
   "execution_count": 7,
   "metadata": {},
   "outputs": [],
   "source": [
    "y_all, sr=librosa.load('wav_files/' + recording_name + '.wav', sr=sample_rate, mono=False)"
   ]
  },
  {
   "cell_type": "code",
   "execution_count": 8,
   "metadata": {},
   "outputs": [],
   "source": [
    "#Select first track\n",
    "y=y_all[0] #only first track"
   ]
  },
  {
   "cell_type": "code",
   "execution_count": 9,
   "metadata": {},
   "outputs": [
    {
     "data": {
      "text/plain": [
       "array([ 0.02192914,  0.00633857, -0.01353262, ..., -0.04321598,\n",
       "       -0.04496078,  0.        ], dtype=float32)"
      ]
     },
     "execution_count": 9,
     "metadata": {},
     "output_type": "execute_result"
    }
   ],
   "source": [
    "y"
   ]
  },
  {
   "cell_type": "markdown",
   "metadata": {},
   "source": [
    "### Recording start time in UTC "
   ]
  },
  {
   "cell_type": "code",
   "execution_count": 10,
   "metadata": {},
   "outputs": [],
   "source": [
    "start_datetime_str=recording_name[:20]\n",
    "start_datetime_abs=datetime.datetime.strptime(start_datetime_str, '%Y-%m-%d--%H-%M-%S').timestamp()"
   ]
  },
  {
   "cell_type": "markdown",
   "metadata": {},
   "source": [
    "### Onsets & offsets in csv are in seconds => Convert to samples by multiplying them with the fs\n",
    "\n",
    "second * fs = samples\n"
   ]
  },
  {
   "cell_type": "code",
   "execution_count": 11,
   "metadata": {},
   "outputs": [],
   "source": [
    "time_stamps.onset=time_stamps.onset.apply(lambda x: math.floor(x)) # Round down\n",
    "time_stamps.offset=time_stamps.offset.apply(lambda x: math.ceil(x)) # Round up \n",
    "time_stamps['onset_samples']=time_stamps.onset.apply(lambda x: x*sr) \n",
    "time_stamps['offset_samples']=time_stamps.offset.apply(lambda x: x*sr) "
   ]
  },
  {
   "cell_type": "markdown",
   "metadata": {},
   "source": [
    "### Function for cropping wav and saving"
   ]
  },
  {
   "cell_type": "code",
   "execution_count": 12,
   "metadata": {},
   "outputs": [
    {
     "name": "stdout",
     "output_type": "stream",
     "text": [
      "[Errno 17] File exists: './call_segments/2017-02-04--10-25-15--00-05-25--C'\n"
     ]
    }
   ],
   "source": [
    "try:\n",
    "    os.mkdir('./call_segments/' + recording_name)\n",
    "    \n",
    "except Exception as e:\n",
    "    print(e)"
   ]
  },
  {
   "cell_type": "code",
   "execution_count": 13,
   "metadata": {},
   "outputs": [],
   "source": [
    "def segment_onset_utc(row, start_datetime_abs):\n",
    "    # segment_onset_utc\n",
    "    onset_segment_utc=start_datetime_abs+row.onset\n",
    "    onset_utc_str=datetime.datetime.fromtimestamp(onset_segment_utc).strftime(\"%Y-%m-%d--%H-%M-%S\")\n",
    "    \n",
    "    return onset_utc_str\n",
    "    \n",
    "def segment_duration(row):\n",
    "    #duration_seconds\n",
    "    duration_segment=row.offset-row.onset\n",
    "    duration_utc_str=time.strftime('--%H-%M-%S', time.gmtime(duration_segment))\n",
    "    \n",
    "    return duration_utc_str\n",
    "    \n",
    "        \n",
    "def recording_file_name(row, recording_name):\n",
    "    \n",
    "    call_filename= row.onset_utc_str + row.duration_utc_str\n",
    "    \n",
    "    #Extract and add if recorder info exists\n",
    "    try:\n",
    "        recorder=recording_name[30:]\n",
    "        call_filename=call_filename+recorder + '.wav'\n",
    "    except:\n",
    "        print('recorder not specified')\n",
    "        call_filename=call_filename  + '.wav'\n",
    "        \n",
    "    return call_filename\n",
    "\n",
    "\n",
    "def crop_call(row, y, sr, recording_name, start_datetime_abs):\n",
    "    call=y[row.onset_samples: row.offset_samples]  # Interval closed at the beginning and open at the end\n",
    "    call_path='./call_segments/' + recording_name +'/' +  row.recording_file_name \n",
    "    \n",
    "    sf.write(call_path, call, sr, format='WAV') \n",
    "\n",
    "    return call_path"
   ]
  },
  {
   "cell_type": "markdown",
   "metadata": {},
   "source": [
    "### Apply functions"
   ]
  },
  {
   "cell_type": "code",
   "execution_count": 18,
   "metadata": {},
   "outputs": [],
   "source": [
    "time_stamps['onset_utc_str']=time_stamps.apply(lambda x: segment_onset_utc(x, start_datetime_abs), axis=1)\n",
    "time_stamps['duration_utc_str']=time_stamps.apply(lambda x: segment_duration(x), axis=1)\n",
    "time_stamps['recording_file_name']=time_stamps.apply(lambda x: recording_file_name(x, recording_name), axis=1)\n",
    "time_stamps['call_wav_path']= time_stamps.apply(lambda x: crop_call(x, y, sr, recording_name, start_datetime_abs), axis=1)"
   ]
  },
  {
   "cell_type": "markdown",
   "metadata": {},
   "source": [
    "### Prepare a metadata dataframe"
   ]
  },
  {
   "cell_type": "code",
   "execution_count": 19,
   "metadata": {},
   "outputs": [],
   "source": [
    "def prep_metadata(time_stamps, sample_rate, ref_value, cal_value, researcher, raw_signal_unit, recording_name):\n",
    "    meta_df=pd.DataFrame()\n",
    "    \n",
    "    meta_df['segment_file']=time_stamps.apply(lambda x: x.recording_file_name, axis=1)\n",
    "    meta_df['wav_origin']=pd.Series([recording_name + '.wav']*len(time_stamps))\n",
    "    \n",
    "    meta_df['sample_rate']=pd.Series([sample_rate]*len(time_stamps))\n",
    "    meta_df['raw_signal_unit']=pd.Series([raw_signal_unit]*len(time_stamps))\n",
    "    meta_df['reference_value']=pd.Series([ref_value]*len(time_stamps))\n",
    "    meta_df['calibration_value']=pd.Series([cal_value]*len(time_stamps))\n",
    "    meta_df['researcher']=pd.Series(['SG']*len(time_stamps))\n",
    "    \n",
    "    meta_df['start_samples']=time_stamps.onset_samples\n",
    "    meta_df['end_samples']=time_stamps.offset_samples\n",
    "    meta_df['number_of_samples']=time_stamps.offset_samples-time_stamps.onset_samples\n",
    "    \n",
    "    meta_df['start_seconds']=time_stamps.onset\n",
    "    meta_df['end_seconds']=time_stamps.offset\n",
    "    meta_df['duration_seconds']=meta_df.number_of_samples/meta_df.sample_rate\n",
    "    \n",
    "    meta_df['start_utc']=time_stamps.onset_utc_str\n",
    "    \n",
    "    return meta_df"
   ]
  },
  {
   "cell_type": "code",
   "execution_count": 20,
   "metadata": {},
   "outputs": [],
   "source": [
    "researcher='SG'\n",
    "meta_df=prep_metadata(time_stamps, sample_rate, ref_value, cal_value, researcher, raw_signal_unit, recording_name)"
   ]
  },
  {
   "cell_type": "markdown",
   "metadata": {},
   "source": [
    "### Create metadata files"
   ]
  },
  {
   "cell_type": "code",
   "execution_count": 22,
   "metadata": {},
   "outputs": [],
   "source": [
    "def write_metadata(row, output_dir):\n",
    "    \n",
    "    #Prepare filename\n",
    "    metafilename=row.wav_origin[:-4] + '/' +row.segment_file[:-3]  + 'yml'\n",
    "    \n",
    "    #Convert row to dictionary\n",
    "    d = {k: (v if type(v).__module__ != 'numpy' else v.item()) for k,v in row.to_dict().items()}\n",
    "    \n",
    "    \n",
    "    with open(output_dir + metafilename, 'w') as outfile:\n",
    "        yaml.dump(d, outfile)"
   ]
  },
  {
   "cell_type": "code",
   "execution_count": 23,
   "metadata": {},
   "outputs": [
    {
     "data": {
      "text/plain": [
       "0      None\n",
       "1      None\n",
       "2      None\n",
       "3      None\n",
       "4      None\n",
       "       ... \n",
       "119    None\n",
       "120    None\n",
       "121    None\n",
       "122    None\n",
       "123    None\n",
       "Length: 124, dtype: object"
      ]
     },
     "execution_count": 23,
     "metadata": {},
     "output_type": "execute_result"
    }
   ],
   "source": [
    "output_dir='./call_segments/' \n",
    "meta_df.apply(lambda x: write_metadata(x, output_dir), axis =1)"
   ]
  },
  {
   "cell_type": "markdown",
   "metadata": {},
   "source": [
    "### Save csv under new name"
   ]
  },
  {
   "cell_type": "code",
   "execution_count": 24,
   "metadata": {},
   "outputs": [],
   "source": [
    "time_stamps.to_csv('call_data/call_data_' + recording_name + '.csv')"
   ]
  },
  {
   "cell_type": "markdown",
   "metadata": {},
   "source": [
    "### Read in metadata"
   ]
  },
  {
   "cell_type": "code",
   "execution_count": null,
   "metadata": {},
   "outputs": [],
   "source": []
  }
 ],
 "metadata": {
  "kernelspec": {
   "display_name": "Python 3",
   "language": "python",
   "name": "python3"
  },
  "language_info": {
   "codemirror_mode": {
    "name": "ipython",
    "version": 3
   },
   "file_extension": ".py",
   "mimetype": "text/x-python",
   "name": "python",
   "nbconvert_exporter": "python",
   "pygments_lexer": "ipython3",
   "version": "3.8.2"
  }
 },
 "nbformat": 4,
 "nbformat_minor": 4
}
